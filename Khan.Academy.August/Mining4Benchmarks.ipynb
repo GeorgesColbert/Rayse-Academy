{
 "cells": [
  {
   "cell_type": "code",
   "execution_count": 168,
   "metadata": {},
   "outputs": [],
   "source": [
    "import numpy as np\n",
    "import pandas as pd\n",
    "import matplotlib.pyplot as plt\n",
    "import seaborn as sns\n",
    "from scipy import stats\n",
    "%matplotlib inline\n",
    "sns.set()\n",
    "\n",
    "\n",
    "\n",
    "Summary = pd.read_excel('~/Desktop/Projects/RAYSE ACADEMY/Khan.Academy.August/Khan Academy Report -- 08-05-1970 to 08-31-2018.xlsx',\n",
    "                        sheetname='Summary')\n",
    "Mis_Spec = pd.read_excel('~/Desktop/Projects/RAYSE ACADEMY/Khan.Academy.August/Khan Academy Report -- 08-05-1970 to 08-31-2018.xlsx',\n",
    "                         sheetname='Mission-specific')\n",
    "Exercises = pd.read_excel('~/Desktop/Projects/RAYSE ACADEMY/Khan.Academy.August/Khan Academy Report -- 08-05-1970 to 08-31-2018.xlsx',\n",
    "                        sheetname='Exercises')\n",
    "Videos = pd.read_excel('~/Desktop/Projects/RAYSE ACADEMY/Khan.Academy.August/Khan Academy Report -- 08-05-1970 to 08-31-2018.xlsx',\n",
    "                        sheetname='Videos')\n",
    "Points = pd.read_excel('~/Desktop/Projects/RAYSE ACADEMY/Khan.Academy.August/Khan Academy Report -- 08-05-1970 to 08-31-2018.xlsx',\n",
    "                        sheetname='Points')\n",
    "Badges = pd.read_excel('~/Desktop/Projects/RAYSE ACADEMY/Khan.Academy.August/Khan Academy Report -- 08-05-1970 to 08-31-2018.xlsx',\n",
    "                        sheetname='Badges')\n",
    "Skills = pd.read_excel('~/Desktop/Projects/RAYSE ACADEMY/Khan.Academy.August/Khan Academy Report Skill Progress.xlsx')\n",
    "\n",
    "\n"
   ]
  },
  {
   "cell_type": "code",
   "execution_count": 169,
   "metadata": {},
   "outputs": [],
   "source": [
    "### Data from Roster page inserted\n",
    "Roster = pd.read_excel('~/Desktop/Projects/RAYSE ACADEMY/Khan.Academy.August/Roster.xlsx',\n",
    "                        sheetname='ROA')\n",
    "\n",
    "Attendance = pd.read_excel('~/Desktop/Projects/RAYSE ACADEMY/Khan.Academy.August/Roster.xlsx',\n",
    "                        sheetname='Attendance')"
   ]
  },
  {
   "cell_type": "code",
   "execution_count": 170,
   "metadata": {},
   "outputs": [
    {
     "data": {
      "text/plain": [
       "(219, 14)"
      ]
     },
     "execution_count": 170,
     "metadata": {},
     "output_type": "execute_result"
    }
   ],
   "source": [
    "Summary.shape"
   ]
  },
  {
   "cell_type": "code",
   "execution_count": 171,
   "metadata": {},
   "outputs": [
    {
     "data": {
      "text/plain": [
       "(181, 199)"
      ]
     },
     "execution_count": 171,
     "metadata": {},
     "output_type": "execute_result"
    }
   ],
   "source": [
    "Attendance.shape"
   ]
  },
  {
   "cell_type": "markdown",
   "metadata": {},
   "source": [
    "__NOTES__\n",
    "When data is extracted from Khan Academy, there are 219 students registered to the Monitor account, while the Kalcutta academy only has 181 students registered. The discrepancy is mostly due to students who no longer attend the academy but who's KA account have  been purged from the list of accounts linked to the monitor account.\n",
    "\n",
    "Taking the list of students currently on the roster, the KA accounts are filtered for those who are currently still attending the Kalcutta academy."
   ]
  },
  {
   "cell_type": "code",
   "execution_count": 172,
   "metadata": {},
   "outputs": [
    {
     "data": {
      "text/plain": [
       "(165,)"
      ]
     },
     "execution_count": 172,
     "metadata": {},
     "output_type": "execute_result"
    }
   ],
   "source": [
    "#Filter for list of students who are no longer on the roster\n",
    "\n",
    "cur_roster = Attendance.ID\n",
    "\n",
    "#ka_roster = Summary.Student[Summary.Student.isin(cur_roster)]\n",
    "\n",
    "ka_roster = Mis_Spec.Student[Mis_Spec.Student.isin(cur_roster)]\n",
    "\n",
    "\n",
    "## How many rows of students returned\n",
    "\n",
    "ka_roster.shape\n"
   ]
  },
  {
   "cell_type": "markdown",
   "metadata": {},
   "source": [
    "__NOTES__\n",
    "\n",
    "While the academy has 181 students on their roster, there were only 165 accounts on KA who had matching ccu~ IDs with the list of IDs on the roster. "
   ]
  },
  {
   "cell_type": "markdown",
   "metadata": {},
   "source": [
    " __NOTES__\n",
    " \n",
    " the data extracted from KA includes information on the exercises completed by students that are not part of the 3rd grade curriculum. This implies that the 'Total Minutes' column in the Summary sheet is not truly reflective of how much time students have spent on the 3rd grade mission. \n",
    " \n",
    "To better assess how long each student has spent on the 3rd grade mission, one strategy is to filter the Exercises sheet for the 165 currently registered students, and then filter for the exercises that are part of the 3rd grade mission. Grouping by student should give a better assessment of time spent by student.\n"
   ]
  },
  {
   "cell_type": "code",
   "execution_count": 173,
   "metadata": {},
   "outputs": [
    {
     "name": "stdout",
     "output_type": "stream",
     "text": [
      "The number of registered student accounts who have attemped one exercise is 134\n"
     ]
    }
   ],
   "source": [
    "### Filter students currently on the Roster\n",
    "#cur_ex = Exercises[Exercises.Student.isin(cur_roster)]\n",
    "cur_ex = Exercises[Exercises.Student.isin(ka_roster)]\n",
    "\n",
    "z = len(cur_ex.Student.unique())\n",
    "\n",
    "print('The number of registered student accounts who have attemped one exercise is ' + str(z) )"
   ]
  },
  {
   "cell_type": "markdown",
   "metadata": {},
   "source": [
    "__NOTES__\n",
    "\n",
    "While there are 165 students from the current roster who have an account on KA, only 134 have any record of attempting a exercise.\n",
    "\n"
   ]
  },
  {
   "cell_type": "code",
   "execution_count": 175,
   "metadata": {},
   "outputs": [
    {
     "name": "stdout",
     "output_type": "stream",
     "text": [
      "the number of exerises/skills in the 3rd grade mission is 115\n",
      "the number of 3rd grade mission skills attempted by at least one student is  115\n"
     ]
    }
   ],
   "source": [
    "####Filter for  only the exercises that are part of the 3rd grade mission \n",
    "grade3_ex=  cur_ex[cur_ex.Exercise.isin(Skills.Exercise)]\n",
    "\n",
    "\n",
    "\n",
    "\n",
    "#are there exercises in the 3rd grade mission that no student has yet attempted?\n",
    "\n",
    "print ('the number of exerises/skills in the 3rd grade mission is ' +  str(len(Skills)))\n",
    "\n",
    "zz = len(grade3_ex['Exercise'].unique())\n",
    "\n",
    "print ('the number of 3rd grade mission skills attempted by at least one student is  ' +  str(zz))\n",
    "\n",
    "\n",
    "qq = Skills[~Skills.Exercise.isin(grade3_ex.Exercise)]\n",
    "\n"
   ]
  },
  {
   "cell_type": "code",
   "execution_count": 176,
   "metadata": {},
   "outputs": [],
   "source": [
    "######## Create a total minutes spent(total_Time_on_Mis) on Mission Collumn\n",
    "\n",
    "ccu01c = Mis_Spec\n",
    "\n",
    "m = grade3_ex[['Student','Time Spent (min)']].groupby(by='Student').sum()\n",
    "\n",
    "m.reset_index(inplace=True) \n",
    "\n",
    "ccu01c = pd.merge(ccu01c, m,how='left', on='Student')\n",
    "\n",
    "\n",
    "ccu01c.rename(columns={'Time Spent (min)': 'Total_Time_on_Mis'}, inplace=True)\n",
    "\n"
   ]
  },
  {
   "cell_type": "code",
   "execution_count": 177,
   "metadata": {},
   "outputs": [
    {
     "data": {
      "text/html": [
       "<div>\n",
       "<style>\n",
       "    .dataframe thead tr:only-child th {\n",
       "        text-align: right;\n",
       "    }\n",
       "\n",
       "    .dataframe thead th {\n",
       "        text-align: left;\n",
       "    }\n",
       "\n",
       "    .dataframe tbody tr th {\n",
       "        vertical-align: top;\n",
       "    }\n",
       "</style>\n",
       "<table border=\"1\" class=\"dataframe\">\n",
       "  <thead>\n",
       "    <tr style=\"text-align: right;\">\n",
       "      <th></th>\n",
       "      <th>Student</th>\n",
       "      <th>Struggling</th>\n",
       "      <th>Needs Practice</th>\n",
       "      <th>Practiced</th>\n",
       "      <th>Level 1</th>\n",
       "      <th>Level 2</th>\n",
       "      <th>Mastered</th>\n",
       "      <th>Total_Time_on_Mis</th>\n",
       "    </tr>\n",
       "  </thead>\n",
       "  <tbody>\n",
       "    <tr>\n",
       "      <th>0</th>\n",
       "      <td>bod</td>\n",
       "      <td>0</td>\n",
       "      <td>3</td>\n",
       "      <td>0</td>\n",
       "      <td>0</td>\n",
       "      <td>3</td>\n",
       "      <td>0</td>\n",
       "      <td>NaN</td>\n",
       "    </tr>\n",
       "    <tr>\n",
       "      <th>1</th>\n",
       "      <td>ccu01s055</td>\n",
       "      <td>0</td>\n",
       "      <td>0</td>\n",
       "      <td>1</td>\n",
       "      <td>0</td>\n",
       "      <td>2</td>\n",
       "      <td>101</td>\n",
       "      <td>NaN</td>\n",
       "    </tr>\n",
       "    <tr>\n",
       "      <th>2</th>\n",
       "      <td>ccu01s056</td>\n",
       "      <td>0</td>\n",
       "      <td>0</td>\n",
       "      <td>0</td>\n",
       "      <td>0</td>\n",
       "      <td>0</td>\n",
       "      <td>104</td>\n",
       "      <td>1975.150000</td>\n",
       "    </tr>\n",
       "    <tr>\n",
       "      <th>3</th>\n",
       "      <td>ccu01s057</td>\n",
       "      <td>16</td>\n",
       "      <td>3</td>\n",
       "      <td>0</td>\n",
       "      <td>0</td>\n",
       "      <td>0</td>\n",
       "      <td>82</td>\n",
       "      <td>1429.950000</td>\n",
       "    </tr>\n",
       "    <tr>\n",
       "      <th>4</th>\n",
       "      <td>ccu01s058</td>\n",
       "      <td>5</td>\n",
       "      <td>5</td>\n",
       "      <td>1</td>\n",
       "      <td>1</td>\n",
       "      <td>0</td>\n",
       "      <td>86</td>\n",
       "      <td>928.966667</td>\n",
       "    </tr>\n",
       "  </tbody>\n",
       "</table>\n",
       "</div>"
      ],
      "text/plain": [
       "     Student  Struggling  Needs Practice  Practiced  Level 1  Level 2  \\\n",
       "0        bod           0               3          0        0        3   \n",
       "1  ccu01s055           0               0          1        0        2   \n",
       "2  ccu01s056           0               0          0        0        0   \n",
       "3  ccu01s057          16               3          0        0        0   \n",
       "4  ccu01s058           5               5          1        1        0   \n",
       "\n",
       "   Mastered  Total_Time_on_Mis  \n",
       "0         0                NaN  \n",
       "1       101                NaN  \n",
       "2       104        1975.150000  \n",
       "3        82        1429.950000  \n",
       "4        86         928.966667  "
      ]
     },
     "execution_count": 177,
     "metadata": {},
     "output_type": "execute_result"
    }
   ],
   "source": [
    "ccu01c.head()"
   ]
  },
  {
   "cell_type": "code",
   "execution_count": 178,
   "metadata": {},
   "outputs": [
    {
     "data": {
      "text/html": [
       "<div>\n",
       "<style>\n",
       "    .dataframe thead tr:only-child th {\n",
       "        text-align: right;\n",
       "    }\n",
       "\n",
       "    .dataframe thead th {\n",
       "        text-align: left;\n",
       "    }\n",
       "\n",
       "    .dataframe tbody tr th {\n",
       "        vertical-align: top;\n",
       "    }\n",
       "</style>\n",
       "<table border=\"1\" class=\"dataframe\">\n",
       "  <thead>\n",
       "    <tr style=\"text-align: right;\">\n",
       "      <th></th>\n",
       "      <th>ID</th>\n",
       "      <th>Name</th>\n",
       "      <th>Section</th>\n",
       "      <th>2018-06-19 00:00:00</th>\n",
       "      <th>2018-06-20 00:00:00</th>\n",
       "      <th>2018-06-21 00:00:00</th>\n",
       "      <th>2018-06-22 00:00:00</th>\n",
       "      <th>2018-06-23 00:00:00</th>\n",
       "      <th>2018-06-24 00:00:00</th>\n",
       "      <th>2018-06-25 00:00:00</th>\n",
       "      <th>...</th>\n",
       "      <th>2018-12-22 00:00:00</th>\n",
       "      <th>2018-12-23 00:00:00</th>\n",
       "      <th>2018-12-24 00:00:00</th>\n",
       "      <th>2018-12-25 00:00:00</th>\n",
       "      <th>2018-12-26 00:00:00</th>\n",
       "      <th>2018-12-27 00:00:00</th>\n",
       "      <th>2018-12-28 00:00:00</th>\n",
       "      <th>2018-12-29 00:00:00</th>\n",
       "      <th>2018-12-30 00:00:00</th>\n",
       "      <th>2018-12-31 00:00:00</th>\n",
       "    </tr>\n",
       "  </thead>\n",
       "  <tbody>\n",
       "  </tbody>\n",
       "</table>\n",
       "<p>0 rows × 199 columns</p>\n",
       "</div>"
      ],
      "text/plain": [
       "Empty DataFrame\n",
       "Columns: [ID, Name, Section, 2018-06-19 00:00:00, 2018-06-20 00:00:00, 2018-06-21 00:00:00, 2018-06-22 00:00:00, 2018-06-23 00:00:00, 2018-06-24 00:00:00, 2018-06-25 00:00:00, 2018-06-26 00:00:00, 2018-06-27 00:00:00, 2018-06-28 00:00:00, 2018-06-29 00:00:00, 2018-06-30 00:00:00, 2018-07-01 00:00:00, 2018-07-02 00:00:00, 2018-07-03 00:00:00, 2018-07-04 00:00:00, 2018-07-05 00:00:00, 2018-07-06 00:00:00, 2018-07-07 00:00:00, 2018-07-08 00:00:00, 2018-07-09 00:00:00, 2018-07-10 00:00:00, 2018-07-11 00:00:00, 2018-07-12 00:00:00, 2018-07-13 00:00:00, 2018-07-14 00:00:00, 2018-07-15 00:00:00, 2018-07-16 00:00:00, 2018-07-17 00:00:00, 2018-07-18 00:00:00, 2018-07-19 00:00:00, 2018-07-20 00:00:00, 2018-07-21 00:00:00, 2018-07-22 00:00:00, 2018-07-23 00:00:00, 2018-07-24 00:00:00, 2018-07-25 00:00:00, 2018-07-26 00:00:00, 2018-07-27 00:00:00, 2018-07-28 00:00:00, 2018-07-29 00:00:00, 2018-07-30 00:00:00, 2018-07-31 00:00:00, 2018-08-01 00:00:00, 2018-08-02 00:00:00, 2018-08-03 00:00:00, 2018-08-04 00:00:00, 2018-08-05 00:00:00, 2018-08-06 00:00:00, 2018-08-07 00:00:00, 2018-08-08 00:00:00, 2018-08-09 00:00:00, 2018-08-10 00:00:00, 2018-08-11 00:00:00, 2018-08-12 00:00:00, 2018-08-13 00:00:00, 2018-08-14 00:00:00, 2018-08-15 00:00:00, 2018-08-16 00:00:00, 2018-08-17 00:00:00, 2018-08-18 00:00:00, 2018-08-19 00:00:00, 2018-08-20 00:00:00, 2018-08-21 00:00:00, 2018-08-22 00:00:00, 2018-08-23 00:00:00, 2018-08-24 00:00:00, 2018-08-25 00:00:00, 2018-08-26 00:00:00, 2018-08-27 00:00:00, 2018-08-28 00:00:00, 2018-08-29 00:00:00, 2018-08-30 00:00:00, 2018-08-31 00:00:00, 2018-09-01 00:00:00, 2018-09-02 00:00:00, 2018-09-03 00:00:00, 2018-09-04 00:00:00, 2018-09-05 00:00:00, 2018-09-06 00:00:00, 2018-09-07 00:00:00, 2018-09-08 00:00:00, 2018-09-09 00:00:00, 2018-09-10 00:00:00, 2018-09-11 00:00:00, 2018-09-12 00:00:00, 2018-09-13 00:00:00, 2018-09-14 00:00:00, 2018-09-15 00:00:00, 2018-09-16 00:00:00, 2018-09-17 00:00:00, 2018-09-18 00:00:00, 2018-09-19 00:00:00, 2018-09-20 00:00:00, 2018-09-21 00:00:00, 2018-09-22 00:00:00, 2018-09-23 00:00:00, ...]\n",
       "Index: []\n",
       "\n",
       "[0 rows x 199 columns]"
      ]
     },
     "execution_count": 178,
     "metadata": {},
     "output_type": "execute_result"
    }
   ],
   "source": [
    "Attendance.loc[Attendance['ID'] == 'ccu01s055']"
   ]
  },
  {
   "cell_type": "code",
   "execution_count": 179,
   "metadata": {},
   "outputs": [
    {
     "data": {
      "text/plain": [
       "count     133.000000\n",
       "mean      700.004887\n",
       "std       767.697929\n",
       "min         0.600000\n",
       "25%        40.550000\n",
       "50%       454.283333\n",
       "75%      1062.733333\n",
       "max      2904.116667\n",
       "Name: Total_Time_on_Mis, dtype: float64"
      ]
     },
     "execution_count": 179,
     "metadata": {},
     "output_type": "execute_result"
    }
   ],
   "source": [
    "ccu01c[\"Total_Time_on_Mis\"].describe()"
   ]
  },
  {
   "cell_type": "markdown",
   "metadata": {},
   "source": [
    "__NOTES__\n",
    "\n",
    "\n",
    "The Time given is in minutes, but the proposed benchmarks are in hours and weeks, so 2 new columns need to be created to show how many hours and weeks each student has spend on the 3rd grade mission. A week of attendance at the academy is two sessions of 1.5 hours each, totaling three hours, so to calculate weeks spent on KA every 3 hours spent by a student is counted as one week.\n",
    "\n",
    "\n",
    "__Shoould weeks be counted as 1 for every 3 hours spent on the platform, if students are not solely using KA during their bi-weekly sessions at the Academy? \n",
    "\n",
    "\n"
   ]
  },
  {
   "cell_type": "code",
   "execution_count": 180,
   "metadata": {},
   "outputs": [
    {
     "data": {
      "text/plain": [
       "count    133.000000\n",
       "mean      11.666748\n",
       "std       12.794965\n",
       "min        0.010000\n",
       "25%        0.675833\n",
       "50%        7.571389\n",
       "75%       17.712222\n",
       "max       48.401944\n",
       "Name: Total_Hrs_on_Mis, dtype: float64"
      ]
     },
     "execution_count": 180,
     "metadata": {},
     "output_type": "execute_result"
    }
   ],
   "source": [
    "#####Creating a totalHours spent on Mission Collumn\n",
    "def myHours (x):\n",
    "    q = x/60\n",
    "    return q\n",
    "\n",
    "hold= ccu01c['Total_Time_on_Mis'].apply(myHours)\n",
    "\n",
    "hold.rename(\"Total_Hrs_on_Mis\",inplace=True)\n",
    "ccu01c = pd.concat([ccu01c,hold], axis =1)\n",
    "ccu01c[\"Total_Hrs_on_Mis\"].describe()"
   ]
  },
  {
   "cell_type": "code",
   "execution_count": 181,
   "metadata": {},
   "outputs": [
    {
     "data": {
      "text/plain": [
       "count    133.000000\n",
       "mean       3.888916\n",
       "std        4.264988\n",
       "min        0.003333\n",
       "25%        0.225278\n",
       "50%        2.523796\n",
       "75%        5.904074\n",
       "max       16.133981\n",
       "Name: Total_Wks_on_Mis, dtype: float64"
      ]
     },
     "execution_count": 181,
     "metadata": {},
     "output_type": "execute_result"
    }
   ],
   "source": [
    "#####Creating a totalWeeks spent on Mission Collumn\n",
    "## Student spend 3 hours at the academy a week\n",
    "\n",
    "def myWeeks (x):\n",
    "    q = x/3\n",
    "    return q\n",
    "\n",
    "mold= ccu01c['Total_Hrs_on_Mis'].apply(myWeeks)\n",
    "\n",
    "mold.rename(\"Total_Wks_on_Mis\",inplace=True)\n",
    "ccu01c = pd.concat([ccu01c,mold], axis =1)\n",
    "\n",
    "ccu01c[\"Total_Wks_on_Mis\"].describe()"
   ]
  },
  {
   "cell_type": "markdown",
   "metadata": {},
   "source": [
    "__NOTES__\n",
    "\n",
    "the following optional features are to assess the longest, shortest, and average amount of time each student has spent on a skill for the third grade mission."
   ]
  },
  {
   "cell_type": "code",
   "execution_count": 182,
   "metadata": {},
   "outputs": [],
   "source": [
    "### Time spent by Student per exercise\n",
    "\n",
    "i = grade3_ex[['Student','Time Spent (min)']].groupby(by='Student').max()\n",
    "w = grade3_ex[['Student','Time Spent (min)']].groupby(by='Student').min()\n",
    "e = grade3_ex[['Student','Time Spent (min)']].groupby(by='Student').mean()\n",
    "r = grade3_ex[['Student','Time Spent (min)']].groupby(by='Student').median()\n",
    "\n",
    "i.reset_index(inplace=True) \n",
    "w.reset_index(inplace=True) \n",
    "e.reset_index(inplace=True) \n",
    "r.reset_index(inplace=True) \n",
    "\n",
    "\n",
    "i.rename(columns={'Time Spent (min)': 'Ex.time.max'}, inplace=True)\n",
    "w.rename(columns={'Time Spent (min)': 'Ex.time.min'}, inplace=True)\n",
    "e.rename(columns={'Time Spent (min)': 'ex.time.avg'}, inplace=True)\n",
    "r.rename(columns={'Time Spent (min)': 'ex.time.median'}, inplace=True)\n",
    "\n",
    "ccu01c = pd.merge(ccu01c, i,how='left', on='Student')\n",
    "ccu01c = pd.merge(ccu01c, w,how='left', on='Student')\n",
    "ccu01c = pd.merge(ccu01c, e,how='left', on='Student')\n",
    "ccu01c = pd.merge(ccu01c, r,how='left', on='Student')"
   ]
  },
  {
   "cell_type": "code",
   "execution_count": 183,
   "metadata": {},
   "outputs": [
    {
     "data": {
      "text/plain": [
       "count    133.000000\n",
       "mean      72.976190\n",
       "std       81.168775\n",
       "min        0.550000\n",
       "25%        7.883333\n",
       "50%       44.150000\n",
       "75%      110.383333\n",
       "max      431.816667\n",
       "Name: Ex.time.max, dtype: float64"
      ]
     },
     "execution_count": 183,
     "metadata": {},
     "output_type": "execute_result"
    }
   ],
   "source": [
    "ccu01c[\"Ex.time.max\"].describe()"
   ]
  },
  {
   "cell_type": "code",
   "execution_count": 184,
   "metadata": {},
   "outputs": [
    {
     "data": {
      "text/plain": [
       "count    133.000000\n",
       "mean       0.114662\n",
       "std        0.240467\n",
       "min        0.000000\n",
       "25%        0.000000\n",
       "50%        0.000000\n",
       "75%        0.150000\n",
       "max        1.850000\n",
       "Name: Ex.time.min, dtype: float64"
      ]
     },
     "execution_count": 184,
     "metadata": {},
     "output_type": "execute_result"
    }
   ],
   "source": [
    "ccu01c[\"Ex.time.min\"].describe()"
   ]
  },
  {
   "cell_type": "code",
   "execution_count": 185,
   "metadata": {},
   "outputs": [
    {
     "data": {
      "text/plain": [
       "count    133.000000\n",
       "mean       8.451965\n",
       "std        7.262544\n",
       "min        0.366667\n",
       "25%        2.266667\n",
       "50%        6.714815\n",
       "75%       12.985333\n",
       "max       34.166078\n",
       "Name: ex.time.avg, dtype: float64"
      ]
     },
     "execution_count": 185,
     "metadata": {},
     "output_type": "execute_result"
    }
   ],
   "source": [
    "ccu01c[\"ex.time.avg\"].describe()"
   ]
  },
  {
   "cell_type": "code",
   "execution_count": 186,
   "metadata": {},
   "outputs": [
    {
     "data": {
      "text/plain": [
       "count    133.000000\n",
       "mean       4.108835\n",
       "std        3.572493\n",
       "min        0.150000\n",
       "25%        1.216667\n",
       "50%        3.200000\n",
       "75%        5.950000\n",
       "max       15.500000\n",
       "Name: ex.time.median, dtype: float64"
      ]
     },
     "execution_count": 186,
     "metadata": {},
     "output_type": "execute_result"
    }
   ],
   "source": [
    "ccu01c[\"ex.time.median\"].describe()"
   ]
  },
  {
   "cell_type": "markdown",
   "metadata": {},
   "source": [
    "__NOTES__\n",
    "\n",
    "A progress column is created based on the same calculations given by KA and ZAID."
   ]
  },
  {
   "cell_type": "code",
   "execution_count": 187,
   "metadata": {},
   "outputs": [],
   "source": [
    "##### Create a progress collumn\n",
    "\n",
    "nSkills = len(Skills)\n",
    "\n",
    "def prog(a,b,c,d,e):\n",
    "    mastered = a *4\n",
    "    level2 = b *3\n",
    "    level1 = c * 1\n",
    "    practiced = d*1\n",
    "    per = (mastered+level2+level1+practiced)/(4*e)\n",
    "    return per\n",
    "\n",
    "c = prog(Mis_Spec.Mastered,Mis_Spec['Level 2'],Mis_Spec['Level 1'],Mis_Spec.Practiced,nSkills)\n",
    "\n",
    "ccu01c = pd.concat([ccu01c,c], axis =1)\n",
    "\n"
   ]
  },
  {
   "cell_type": "code",
   "execution_count": 188,
   "metadata": {},
   "outputs": [
    {
     "name": "stdout",
     "output_type": "stream",
     "text": [
      "<class 'pandas.core.frame.DataFrame'>\n",
      "Int64Index: 219 entries, 0 to 218\n",
      "Data columns (total 15 columns):\n",
      "Student              219 non-null object\n",
      "Struggling           219 non-null int64\n",
      "Needs Practice       219 non-null int64\n",
      "Practiced            219 non-null int64\n",
      "Level 1              219 non-null int64\n",
      "Level 2              219 non-null int64\n",
      "Mastered             219 non-null int64\n",
      "Total_Time_on_Mis    133 non-null float64\n",
      "Total_Hrs_on_Mis     133 non-null float64\n",
      "Total_Wks_on_Mis     133 non-null float64\n",
      "Ex.time.max          133 non-null float64\n",
      "Ex.time.min          133 non-null float64\n",
      "ex.time.avg          133 non-null float64\n",
      "ex.time.median       133 non-null float64\n",
      "Progress             219 non-null float64\n",
      "dtypes: float64(8), int64(6), object(1)\n",
      "memory usage: 27.4+ KB\n"
     ]
    }
   ],
   "source": [
    "# Rename Progress column\n",
    "\n",
    "ccu01c.rename(columns={0: 'Progress'}, inplace=True)\n",
    "ccu01c.info()"
   ]
  },
  {
   "cell_type": "code",
   "execution_count": 189,
   "metadata": {},
   "outputs": [
    {
     "data": {
      "text/plain": [
       "count    133.000000\n",
       "mean       3.888916\n",
       "std        4.264988\n",
       "min        0.003333\n",
       "25%        0.225278\n",
       "50%        2.523796\n",
       "75%        5.904074\n",
       "max       16.133981\n",
       "Name: Total_Wks_on_Mis, dtype: float64"
      ]
     },
     "execution_count": 189,
     "metadata": {},
     "output_type": "execute_result"
    }
   ],
   "source": [
    "ccu01c['Total_Wks_on_Mis'].describe()"
   ]
  },
  {
   "cell_type": "markdown",
   "metadata": {},
   "source": [
    "__NOTES__\n",
    "\n",
    "\n",
    "The Curriculum Dev team has provided a set of benchmarks to measure how students are performing based on how long they've been working on the 3rd grade mission. These benchmarks can be found on the \"Rayse Curriculum outline and Benchmarks\" document on the google drive under Rayse Academy > Curriculum Development > Rayse Curriculum and Benchmarks.\n"
   ]
  },
  {
   "cell_type": "code",
   "execution_count": 191,
   "metadata": {},
   "outputs": [],
   "source": [
    "### measuring against benchmarks\n",
    "\n",
    "\n",
    "def bench(x):\n",
    "    if x['Total_Wks_on_Mis'] < 1.0 and x['Total_Wks_on_Mis'] > 0.0:\n",
    "        return 'student not past first two session'   \n",
    "    elif x['Total_Wks_on_Mis'] <= 1.5 and x['Total_Wks_on_Mis'] > 1.0:\n",
    "        if x['Progress'] > 0.04 and x['Progress'] < 0.08:\n",
    "            return 'student inside range req'\n",
    "        elif x['Progress'] > 0.08:\n",
    "            return'student ahead of range req'\n",
    "        elif x['Progress'] < 0.02:\n",
    "            return 'student below the range req'\n",
    "    elif x['Total_Wks_on_Mis'] <= 4.99 and x['Total_Wks_on_Mis'] > 1.5:\n",
    "        if x['Progress'] < 0.32 or x['Struggling'] > 0:\n",
    "            return 'struggling'\n",
    "        elif x['Progress'] > 0.6 and x['Struggling'] ==0:\n",
    "            return 'advanced'\n",
    "    elif x['Total_Wks_on_Mis'] > 5:\n",
    "        if x['Progress'] > 0.75 and x['Struggling']==0 and x['Needs Practice'] == 0:\n",
    "            return 'Mission passed, move to next mission'\n",
    "        else:\n",
    "            return 'must improve on mission' \n",
    "\n",
    "x = ccu01c.apply(bench,axis=1)\n"
   ]
  },
  {
   "cell_type": "code",
   "execution_count": 159,
   "metadata": {},
   "outputs": [
    {
     "data": {
      "text/html": [
       "<div>\n",
       "<style>\n",
       "    .dataframe thead tr:only-child th {\n",
       "        text-align: right;\n",
       "    }\n",
       "\n",
       "    .dataframe thead th {\n",
       "        text-align: left;\n",
       "    }\n",
       "\n",
       "    .dataframe tbody tr th {\n",
       "        vertical-align: top;\n",
       "    }\n",
       "</style>\n",
       "<table border=\"1\" class=\"dataframe\">\n",
       "  <thead>\n",
       "    <tr style=\"text-align: right;\">\n",
       "      <th></th>\n",
       "      <th>Student</th>\n",
       "      <th>Struggling</th>\n",
       "      <th>Needs Practice</th>\n",
       "      <th>Practiced</th>\n",
       "      <th>Level 1</th>\n",
       "      <th>Level 2</th>\n",
       "      <th>Mastered</th>\n",
       "      <th>Total_Time_on_Mis</th>\n",
       "      <th>Total_Hrs_on_Mis</th>\n",
       "      <th>Total_Wks_on_Mis</th>\n",
       "      <th>Ex.time.max</th>\n",
       "      <th>Ex.time.min</th>\n",
       "      <th>ex.time.avg</th>\n",
       "      <th>ex.time.median</th>\n",
       "      <th>Progress</th>\n",
       "      <th>Benchmark Status</th>\n",
       "    </tr>\n",
       "  </thead>\n",
       "  <tbody>\n",
       "    <tr>\n",
       "      <th>0</th>\n",
       "      <td>bod</td>\n",
       "      <td>0</td>\n",
       "      <td>3</td>\n",
       "      <td>0</td>\n",
       "      <td>0</td>\n",
       "      <td>3</td>\n",
       "      <td>0</td>\n",
       "      <td>NaN</td>\n",
       "      <td>NaN</td>\n",
       "      <td>NaN</td>\n",
       "      <td>NaN</td>\n",
       "      <td>NaN</td>\n",
       "      <td>NaN</td>\n",
       "      <td>NaN</td>\n",
       "      <td>0.019565</td>\n",
       "      <td>None</td>\n",
       "    </tr>\n",
       "    <tr>\n",
       "      <th>1</th>\n",
       "      <td>ccu01s055</td>\n",
       "      <td>0</td>\n",
       "      <td>0</td>\n",
       "      <td>1</td>\n",
       "      <td>0</td>\n",
       "      <td>2</td>\n",
       "      <td>101</td>\n",
       "      <td>NaN</td>\n",
       "      <td>NaN</td>\n",
       "      <td>NaN</td>\n",
       "      <td>NaN</td>\n",
       "      <td>NaN</td>\n",
       "      <td>NaN</td>\n",
       "      <td>NaN</td>\n",
       "      <td>0.893478</td>\n",
       "      <td>None</td>\n",
       "    </tr>\n",
       "    <tr>\n",
       "      <th>2</th>\n",
       "      <td>ccu01s056</td>\n",
       "      <td>0</td>\n",
       "      <td>0</td>\n",
       "      <td>0</td>\n",
       "      <td>0</td>\n",
       "      <td>0</td>\n",
       "      <td>104</td>\n",
       "      <td>1975.150000</td>\n",
       "      <td>32.919167</td>\n",
       "      <td>10.973056</td>\n",
       "      <td>226.116667</td>\n",
       "      <td>0.45</td>\n",
       "      <td>18.991827</td>\n",
       "      <td>6.875000</td>\n",
       "      <td>0.904348</td>\n",
       "      <td>Mission passed, move to next mission</td>\n",
       "    </tr>\n",
       "    <tr>\n",
       "      <th>3</th>\n",
       "      <td>ccu01s057</td>\n",
       "      <td>16</td>\n",
       "      <td>3</td>\n",
       "      <td>0</td>\n",
       "      <td>0</td>\n",
       "      <td>0</td>\n",
       "      <td>82</td>\n",
       "      <td>1429.950000</td>\n",
       "      <td>23.832500</td>\n",
       "      <td>7.944167</td>\n",
       "      <td>238.500000</td>\n",
       "      <td>0.00</td>\n",
       "      <td>14.157921</td>\n",
       "      <td>6.983333</td>\n",
       "      <td>0.713043</td>\n",
       "      <td>must improve on mission</td>\n",
       "    </tr>\n",
       "    <tr>\n",
       "      <th>4</th>\n",
       "      <td>ccu01s058</td>\n",
       "      <td>5</td>\n",
       "      <td>5</td>\n",
       "      <td>1</td>\n",
       "      <td>1</td>\n",
       "      <td>0</td>\n",
       "      <td>86</td>\n",
       "      <td>928.966667</td>\n",
       "      <td>15.482778</td>\n",
       "      <td>5.160926</td>\n",
       "      <td>108.766667</td>\n",
       "      <td>0.00</td>\n",
       "      <td>9.479252</td>\n",
       "      <td>4.633333</td>\n",
       "      <td>0.752174</td>\n",
       "      <td>must improve on mission</td>\n",
       "    </tr>\n",
       "  </tbody>\n",
       "</table>\n",
       "</div>"
      ],
      "text/plain": [
       "     Student  Struggling  Needs Practice  Practiced  Level 1  Level 2  \\\n",
       "0        bod           0               3          0        0        3   \n",
       "1  ccu01s055           0               0          1        0        2   \n",
       "2  ccu01s056           0               0          0        0        0   \n",
       "3  ccu01s057          16               3          0        0        0   \n",
       "4  ccu01s058           5               5          1        1        0   \n",
       "\n",
       "   Mastered  Total_Time_on_Mis  Total_Hrs_on_Mis  Total_Wks_on_Mis  \\\n",
       "0         0                NaN               NaN               NaN   \n",
       "1       101                NaN               NaN               NaN   \n",
       "2       104        1975.150000         32.919167         10.973056   \n",
       "3        82        1429.950000         23.832500          7.944167   \n",
       "4        86         928.966667         15.482778          5.160926   \n",
       "\n",
       "   Ex.time.max  Ex.time.min  ex.time.avg  ex.time.median  Progress  \\\n",
       "0          NaN          NaN          NaN             NaN  0.019565   \n",
       "1          NaN          NaN          NaN             NaN  0.893478   \n",
       "2   226.116667         0.45    18.991827        6.875000  0.904348   \n",
       "3   238.500000         0.00    14.157921        6.983333  0.713043   \n",
       "4   108.766667         0.00     9.479252        4.633333  0.752174   \n",
       "\n",
       "                       Benchmark Status  \n",
       "0                                  None  \n",
       "1                                  None  \n",
       "2  Mission passed, move to next mission  \n",
       "3               must improve on mission  \n",
       "4               must improve on mission  "
      ]
     },
     "execution_count": 159,
     "metadata": {},
     "output_type": "execute_result"
    }
   ],
   "source": [
    "\n"
   ]
  },
  {
   "cell_type": "code",
   "execution_count": 192,
   "metadata": {},
   "outputs": [],
   "source": [
    "ccu01c = pd.concat([ccu01c,x], axis =1)"
   ]
  },
  {
   "cell_type": "code",
   "execution_count": 193,
   "metadata": {},
   "outputs": [],
   "source": [
    "ccu01c.rename(columns={0: 'Benchmark Status'}, inplace=True)"
   ]
  },
  {
   "cell_type": "code",
   "execution_count": 194,
   "metadata": {},
   "outputs": [],
   "source": [
    "sns.set(color_codes=True)"
   ]
  },
  {
   "cell_type": "code",
   "execution_count": 167,
   "metadata": {},
   "outputs": [],
   "source": [
    "\n",
    "#sns.distplot(ka_roster_mis['Total_Time_on_Mis']);"
   ]
  },
  {
   "cell_type": "code",
   "execution_count": 195,
   "metadata": {},
   "outputs": [
    {
     "data": {
      "text/plain": [
       "student not past first two session      52\n",
       "must improve on mission                 39\n",
       "struggling                              33\n",
       "student ahead of range req               7\n",
       "Mission passed, move to next mission     2\n",
       "Name: Benchmark Status, dtype: int64"
      ]
     },
     "execution_count": 195,
     "metadata": {},
     "output_type": "execute_result"
    }
   ],
   "source": [
    "## Filter for the students currently on the roster\n",
    "\n",
    "ka_roster_mis = ccu01c[ccu01c.Student.isin(ka_roster)]\n",
    "\n",
    "s.shape\n",
    "\n",
    "w = ka_roster_mis['Benchmark Status'].value_counts()\n",
    "w"
   ]
  },
  {
   "cell_type": "code",
   "execution_count": 196,
   "metadata": {},
   "outputs": [
    {
     "data": {
      "image/png": "[encoded data removed]",
      "text/plain": [
       "<matplotlib.figure.Figure at 0x10e1ea588>"
      ]
     },
     "metadata": {},
     "output_type": "display_data"
    }
   ],
   "source": [
    "import matplotlib.pyplot as plt\n",
    "w.plot(kind='bar',width=0.3,figsize=(10,7))\n",
    "plt.xticks(rotation=0)\n",
    "plt.title('Students Status on Benchmarks')\n",
    "\n",
    "plt.show()"
   ]
  },
  {
   "cell_type": "code",
   "execution_count": 199,
   "metadata": {},
   "outputs": [
    {
     "data": {
      "text/plain": [
       "(165, 16)"
      ]
     },
     "execution_count": 199,
     "metadata": {},
     "output_type": "execute_result"
    }
   ],
   "source": [
    "ka_roster_mis.shape\n"
   ]
  }
 ],
 "metadata": {
  "kernelspec": {
   "display_name": "Python 3",
   "language": "python",
   "name": "python3"
  },
  "language_info": {
   "codemirror_mode": {
    "name": "ipython",
    "version": 3
   },
   "file_extension": ".py",
   "mimetype": "text/x-python",
   "name": "python",
   "nbconvert_exporter": "python",
   "pygments_lexer": "ipython3",
   "version": "3.6.3"
  }
 },
 "nbformat": 4,
 "nbformat_minor": 2
}
