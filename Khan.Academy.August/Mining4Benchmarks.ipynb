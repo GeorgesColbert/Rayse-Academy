{
 "cells": [
  {
   "cell_type": "code",
   "execution_count": 23,
   "metadata": {},
   "outputs": [],
   "source": [
    "import numpy as np\n",
    "import pandas as pd\n",
    "import matplotlib.pyplot as plt\n",
    "import seaborn as sns\n",
    "from scipy import stats\n",
    "%matplotlib inline\n",
    "sns.set()\n",
    "\n",
    "\n",
    "\n",
    "Summary = pd.read_excel('~/Desktop/Projects/RAYSE ACADEMY/Khan.Academy.August/Khan Academy Report -- 08-05-1970 to 08-31-2018.xlsx',\n",
    "                        sheetname='Summary')\n",
    "Mis_Spec = pd.read_excel('~/Desktop/Projects/RAYSE ACADEMY/Khan.Academy.August/Khan Academy Report -- 08-05-1970 to 08-31-2018.xlsx',\n",
    "                         sheetname='Mission-specific')\n",
    "Exercises = pd.read_excel('~/Desktop/Projects/RAYSE ACADEMY/Khan.Academy.August/Khan Academy Report -- 08-05-1970 to 08-31-2018.xlsx',\n",
    "                        sheetname='Exercises')\n",
    "Videos = pd.read_excel('~/Desktop/Projects/RAYSE ACADEMY/Khan.Academy.August/Khan Academy Report -- 08-05-1970 to 08-31-2018.xlsx',\n",
    "                        sheetname='Videos')\n",
    "Points = pd.read_excel('~/Desktop/Projects/RAYSE ACADEMY/Khan.Academy.August/Khan Academy Report -- 08-05-1970 to 08-31-2018.xlsx',\n",
    "                        sheetname='Points')\n",
    "Badges = pd.read_excel('~/Desktop/Projects/RAYSE ACADEMY/Khan.Academy.August/Khan Academy Report -- 08-05-1970 to 08-31-2018.xlsx',\n",
    "                        sheetname='Badges')\n",
    "Skills = pd.read_excel('~/Desktop/Projects/RAYSE ACADEMY/Khan.Academy.August/Khan Academy Report Skill Progress.xlsx')\n",
    "\n",
    "\n"
   ]
  },
  {
   "cell_type": "code",
   "execution_count": 24,
   "metadata": {},
   "outputs": [],
   "source": [
    "### Data from Roster page inserted\n",
    "Roster = pd.read_excel('~/Desktop/Projects/RAYSE ACADEMY/Khan.Academy.August/Roster.xlsx',\n",
    "                        sheetname='ROA')\n",
    "\n",
    "Attendance = pd.read_excel('~/Desktop/Projects/RAYSE ACADEMY/Khan.Academy.August/Roster.xlsx',\n",
    "                        sheetname='Attendance')"
   ]
  },
  {
   "cell_type": "code",
   "execution_count": 79,
   "metadata": {},
   "outputs": [
    {
     "data": {
      "text/plain": [
       "(219, 14)"
      ]
     },
     "execution_count": 79,
     "metadata": {},
     "output_type": "execute_result"
    }
   ],
   "source": [
    "Summary.shape"
   ]
  },
  {
   "cell_type": "code",
   "execution_count": 7,
   "metadata": {},
   "outputs": [
    {
     "data": {
      "text/plain": [
       "(181, 199)"
      ]
     },
     "execution_count": 7,
     "metadata": {},
     "output_type": "execute_result"
    }
   ],
   "source": [
    "Attendance.shape"
   ]
  },
  {
   "cell_type": "markdown",
   "metadata": {},
   "source": [
    "__NOTES__\n",
    "When data is extracted from Khan Academy, there are 219 students registered to the Monitor account, while the Kalcutta academy only has 181 students registered. The discrepancy is mostly due to students who no longer attend the academy but who's KA account have  been purged from the list of accounts linked to the monitor account.\n",
    "\n",
    "Taking the list of students currently on the roster, the KA accounts are filtered for those who are currently still attending the Kalcutta academy."
   ]
  },
  {
   "cell_type": "code",
   "execution_count": 25,
   "metadata": {},
   "outputs": [
    {
     "data": {
      "text/plain": [
       "(165,)"
      ]
     },
     "execution_count": 25,
     "metadata": {},
     "output_type": "execute_result"
    }
   ],
   "source": [
    "#Filter for list of students who are no longer on the roster\n",
    "\n",
    "cur_roster = Attendance.ID\n",
    "\n",
    "#ka_roster = Summary.Student[Summary.Student.isin(cur_roster)]\n",
    "\n",
    "ka_roster = Mis_Spec.Student[Mis_Spec.Student.isin(cur_roster)]\n",
    "\n",
    "\n",
    "## How many rows of students returned\n",
    "\n",
    "ka_roster.shape\n"
   ]
  },
  {
   "cell_type": "markdown",
   "metadata": {},
   "source": [
    "__NOTES__\n",
    "\n",
    "While the academy has 181 students on their roster, there were only 165 accounts on KA who had matching ccu~ IDs with the list of IDs on the roster. "
   ]
  },
  {
   "cell_type": "markdown",
   "metadata": {},
   "source": [
    " __NOTES__\n",
    " \n",
    " the data extracted from KA includes information on the exercises completed by students that are not part of the 3rd grade curriculum. This implies that the 'Total Minutes' column in the Summary sheet is not truly reflective of how much time students have spent on the 3rd grade mission. \n",
    " \n",
    "To better assess how long each student has spent on the 3rd grade mission, one strategy is to filter the Exercises sheet for the 165 currently registered students, and then filter for the exercises that are part of the 3rd grade mission. Grouping by student should give a better assessment of time spent by student.\n"
   ]
  },
  {
   "cell_type": "code",
   "execution_count": 26,
   "metadata": {},
   "outputs": [
    {
     "name": "stdout",
     "output_type": "stream",
     "text": [
      "The number of registered student accounts who have attemped one exercise is 134\n"
     ]
    }
   ],
   "source": [
    "### Filter students currently on the Roster\n",
    "#cur_ex = Exercises[Exercises.Student.isin(cur_roster)]\n",
    "cur_ex = Exercises[Exercises.Student.isin(ka_roster)]\n",
    "\n",
    "z = len(cur_ex.Student.unique())\n",
    "\n",
    "print('The number of registered student accounts who have attemped one exercise is ' + str(z) )"
   ]
  },
  {
   "cell_type": "markdown",
   "metadata": {},
   "source": [
    "__NOTES__\n",
    "\n",
    "While there are 165 students from the current roster who have an account on KA, only 134 have any record of attempting a exercise.\n",
    "\n"
   ]
  },
  {
   "cell_type": "code",
   "execution_count": 27,
   "metadata": {},
   "outputs": [
    {
     "name": "stdout",
     "output_type": "stream",
     "text": [
      "the number of exerises/skills in the 3rd grade mission is 115\n",
      "the number of 3rd grade mission skills attempted by at least one student is  115\n"
     ]
    }
   ],
   "source": [
    "####Filter for  only the exercises that are part of the 3rd grade mission \n",
    "grade3_ex=  cur_ex[cur_ex.Exercise.isin(Skills.Exercise)]\n",
    "\n",
    "\n",
    "\n",
    "\n",
    "#are there exercises in the 3rd grade mission that no student has yet attempted?\n",
    "\n",
    "print ('the number of exerises/skills in the 3rd grade mission is ' +  str(len(Skills)))\n",
    "\n",
    "zz = len(grade3_ex['Exercise'].unique())\n",
    "\n",
    "print ('the number of 3rd grade mission skills attempted by at least one student is  ' +  str(zz))\n",
    "\n",
    "\n",
    "qq = Skills[~Skills.Exercise.isin(grade3_ex.Exercise)]\n",
    "\n"
   ]
  },
  {
   "cell_type": "code",
   "execution_count": 28,
   "metadata": {},
   "outputs": [],
   "source": [
    "######## Create a total minutes spent(total_Time_on_Mis) on Mission Collumn\n",
    "\n",
    "ccu01c = Mis_Spec\n",
    "\n",
    "m = grade3_ex[['Student','Time Spent (min)']].groupby(by='Student').sum()\n",
    "\n",
    "m.reset_index(inplace=True) \n",
    "\n",
    "ccu01c = pd.merge(ccu01c, m,how='left', on='Student')\n",
    "\n",
    "\n",
    "ccu01c.rename(columns={'Time Spent (min)': 'Total_Time_on_Mis'}, inplace=True)\n",
    "\n"
   ]
  },
  {
   "cell_type": "code",
   "execution_count": 30,
   "metadata": {},
   "outputs": [
    {
     "data": {
      "text/plain": [
       "count     133.000000\n",
       "mean      700.004887\n",
       "std       767.697929\n",
       "min         0.600000\n",
       "25%        40.550000\n",
       "50%       454.283333\n",
       "75%      1062.733333\n",
       "max      2904.116667\n",
       "Name: Total_Time_on_Mis, dtype: float64"
      ]
     },
     "execution_count": 30,
     "metadata": {},
     "output_type": "execute_result"
    }
   ],
   "source": [
    "ccu01c[\"Total_Time_on_Mis\"].describe()"
   ]
  },
  {
   "cell_type": "markdown",
   "metadata": {},
   "source": [
    "__NOTES__\n",
    "\n",
    "\n",
    "The Time given is in minutes, but the proposed benchmarks are in hours and weeks, so 2 new columns need to be created to show how many hours and weeks each student has spend on the 3rd grade mission. A week of attendance at the academy is two sessions of 1.5 hours each, totaling three hours, so to calculate weeks spent on KA every 3 hours spent by a student is counted as one week.\n",
    "\n",
    "\n",
    "__Shoould weeks be counted as 1 for every 3 hours spent on the platform, if students are not solely using KA during their bi-weekly sessions at the Academy? \n",
    "\n",
    "\n"
   ]
  },
  {
   "cell_type": "code",
   "execution_count": 31,
   "metadata": {},
   "outputs": [
    {
     "data": {
      "text/plain": [
       "count    133.000000\n",
       "mean      11.666748\n",
       "std       12.794965\n",
       "min        0.010000\n",
       "25%        0.675833\n",
       "50%        7.571389\n",
       "75%       17.712222\n",
       "max       48.401944\n",
       "Name: Total_Hrs_on_Mis, dtype: float64"
      ]
     },
     "execution_count": 31,
     "metadata": {},
     "output_type": "execute_result"
    }
   ],
   "source": [
    "#####Creating a totalHours spent on Mission Collumn\n",
    "def myHours (x):\n",
    "    q = x/60\n",
    "    return q\n",
    "\n",
    "hold= ccu01c['Total_Time_on_Mis'].apply(myHours)\n",
    "\n",
    "hold.rename(\"Total_Hrs_on_Mis\",inplace=True)\n",
    "ccu01c = pd.concat([ccu01c,hold], axis =1)\n",
    "ccu01c[\"Total_Hrs_on_Mis\"].describe()"
   ]
  },
  {
   "cell_type": "code",
   "execution_count": 32,
   "metadata": {},
   "outputs": [
    {
     "data": {
      "text/plain": [
       "count    133.000000\n",
       "mean       3.888916\n",
       "std        4.264988\n",
       "min        0.003333\n",
       "25%        0.225278\n",
       "50%        2.523796\n",
       "75%        5.904074\n",
       "max       16.133981\n",
       "Name: Total_Wks_on_Mis, dtype: float64"
      ]
     },
     "execution_count": 32,
     "metadata": {},
     "output_type": "execute_result"
    }
   ],
   "source": [
    "#####Creating a totalWeeks spent on Mission Collumn\n",
    "## Student spend 3 hours at the academy a week\n",
    "\n",
    "def myWeeks (x):\n",
    "    q = x/3\n",
    "    return q\n",
    "\n",
    "mold= ccu01c['Total_Hrs_on_Mis'].apply(myWeeks)\n",
    "\n",
    "mold.rename(\"Total_Wks_on_Mis\",inplace=True)\n",
    "ccu01c = pd.concat([ccu01c,mold], axis =1)\n",
    "\n",
    "ccu01c[\"Total_Wks_on_Mis\"].describe()"
   ]
  },
  {
   "cell_type": "markdown",
   "metadata": {},
   "source": [
    "__NOTES__\n",
    "\n",
    "the following optional features are to assess the longest, shortest, and average amount of time each student has spent on a skill for the third grade mission."
   ]
  },
  {
   "cell_type": "code",
   "execution_count": 33,
   "metadata": {},
   "outputs": [],
   "source": [
    "### Time spent by Student per exercise\n",
    "\n",
    "i = grade3_ex[['Student','Time Spent (min)']].groupby(by='Student').max()\n",
    "w = grade3_ex[['Student','Time Spent (min)']].groupby(by='Student').min()\n",
    "e = grade3_ex[['Student','Time Spent (min)']].groupby(by='Student').mean()\n",
    "r = grade3_ex[['Student','Time Spent (min)']].groupby(by='Student').median()\n",
    "\n",
    "i.reset_index(inplace=True) \n",
    "w.reset_index(inplace=True) \n",
    "e.reset_index(inplace=True) \n",
    "r.reset_index(inplace=True) \n",
    "\n",
    "\n",
    "i.rename(columns={'Time Spent (min)': 'Ex.time.max'}, inplace=True)\n",
    "w.rename(columns={'Time Spent (min)': 'Ex.time.min'}, inplace=True)\n",
    "e.rename(columns={'Time Spent (min)': 'ex.time.avg'}, inplace=True)\n",
    "r.rename(columns={'Time Spent (min)': 'ex.time.median'}, inplace=True)\n",
    "\n",
    "ccu01c = pd.merge(ccu01c, i,how='left', on='Student')\n",
    "ccu01c = pd.merge(ccu01c, w,how='left', on='Student')\n",
    "ccu01c = pd.merge(ccu01c, e,how='left', on='Student')\n",
    "ccu01c = pd.merge(ccu01c, r,how='left', on='Student')"
   ]
  },
  {
   "cell_type": "code",
   "execution_count": 34,
   "metadata": {},
   "outputs": [
    {
     "data": {
      "text/plain": [
       "count    133.000000\n",
       "mean      72.976190\n",
       "std       81.168775\n",
       "min        0.550000\n",
       "25%        7.883333\n",
       "50%       44.150000\n",
       "75%      110.383333\n",
       "max      431.816667\n",
       "Name: Ex.time.max, dtype: float64"
      ]
     },
     "execution_count": 34,
     "metadata": {},
     "output_type": "execute_result"
    }
   ],
   "source": [
    "ccu01c[\"Ex.time.max\"].describe()"
   ]
  },
  {
   "cell_type": "code",
   "execution_count": 35,
   "metadata": {},
   "outputs": [
    {
     "data": {
      "text/plain": [
       "count    133.000000\n",
       "mean       0.114662\n",
       "std        0.240467\n",
       "min        0.000000\n",
       "25%        0.000000\n",
       "50%        0.000000\n",
       "75%        0.150000\n",
       "max        1.850000\n",
       "Name: Ex.time.min, dtype: float64"
      ]
     },
     "execution_count": 35,
     "metadata": {},
     "output_type": "execute_result"
    }
   ],
   "source": [
    "ccu01c[\"Ex.time.min\"].describe()"
   ]
  },
  {
   "cell_type": "code",
   "execution_count": 36,
   "metadata": {},
   "outputs": [
    {
     "data": {
      "text/plain": [
       "count    133.000000\n",
       "mean       8.451965\n",
       "std        7.262544\n",
       "min        0.366667\n",
       "25%        2.266667\n",
       "50%        6.714815\n",
       "75%       12.985333\n",
       "max       34.166078\n",
       "Name: ex.time.avg, dtype: float64"
      ]
     },
     "execution_count": 36,
     "metadata": {},
     "output_type": "execute_result"
    }
   ],
   "source": [
    "ccu01c[\"ex.time.avg\"].describe()"
   ]
  },
  {
   "cell_type": "code",
   "execution_count": 37,
   "metadata": {},
   "outputs": [
    {
     "data": {
      "text/plain": [
       "count    133.000000\n",
       "mean       4.108835\n",
       "std        3.572493\n",
       "min        0.150000\n",
       "25%        1.216667\n",
       "50%        3.200000\n",
       "75%        5.950000\n",
       "max       15.500000\n",
       "Name: ex.time.median, dtype: float64"
      ]
     },
     "execution_count": 37,
     "metadata": {},
     "output_type": "execute_result"
    }
   ],
   "source": [
    "ccu01c[\"ex.time.median\"].describe()"
   ]
  },
  {
   "cell_type": "markdown",
   "metadata": {},
   "source": [
    "__NOTES__\n",
    "\n",
    "A progress column is created based on the same calculations given by KA and ZAID."
   ]
  },
  {
   "cell_type": "code",
   "execution_count": 38,
   "metadata": {},
   "outputs": [],
   "source": [
    "##### Create a progress collumn\n",
    "\n",
    "nSkills = len(Skills)\n",
    "\n",
    "def prog(a,b,c,d,e):\n",
    "    mastered = a *4\n",
    "    level2 = b *3\n",
    "    level1 = c * 1\n",
    "    practiced = d*1\n",
    "    per = (mastered+level2+level1+practiced)/(4*e)\n",
    "    return per\n",
    "\n",
    "c = prog(Mis_Spec.Mastered,Mis_Spec['Level 2'],Mis_Spec['Level 1'],Mis_Spec.Practiced,nSkills)\n",
    "\n",
    "ccu01c = pd.concat([ccu01c,c], axis =1)\n",
    "\n"
   ]
  },
  {
   "cell_type": "code",
   "execution_count": 39,
   "metadata": {},
   "outputs": [
    {
     "name": "stdout",
     "output_type": "stream",
     "text": [
      "<class 'pandas.core.frame.DataFrame'>\n",
      "Int64Index: 219 entries, 0 to 218\n",
      "Data columns (total 15 columns):\n",
      "Student              219 non-null object\n",
      "Struggling           219 non-null int64\n",
      "Needs Practice       219 non-null int64\n",
      "Practiced            219 non-null int64\n",
      "Level 1              219 non-null int64\n",
      "Level 2              219 non-null int64\n",
      "Mastered             219 non-null int64\n",
      "Total_Time_on_Mis    133 non-null float64\n",
      "Total_Hrs_on_Mis     133 non-null float64\n",
      "Total_Wks_on_Mis     133 non-null float64\n",
      "Ex.time.max          133 non-null float64\n",
      "Ex.time.min          133 non-null float64\n",
      "ex.time.avg          133 non-null float64\n",
      "ex.time.median       133 non-null float64\n",
      "Progress             219 non-null float64\n",
      "dtypes: float64(8), int64(6), object(1)\n",
      "memory usage: 27.4+ KB\n"
     ]
    }
   ],
   "source": [
    "# Rename Progress column\n",
    "\n",
    "ccu01c.rename(columns={0: 'Progress'}, inplace=True)\n"
   ]
  },
  {
   "cell_type": "code",
   "execution_count": 40,
   "metadata": {},
   "outputs": [
    {
     "data": {
      "text/plain": [
       "count    133.000000\n",
       "mean       3.888916\n",
       "std        4.264988\n",
       "min        0.003333\n",
       "25%        0.225278\n",
       "50%        2.523796\n",
       "75%        5.904074\n",
       "max       16.133981\n",
       "Name: Total_Wks_on_Mis, dtype: float64"
      ]
     },
     "execution_count": 40,
     "metadata": {},
     "output_type": "execute_result"
    }
   ],
   "source": [
    "ccu01c['Total_Wks_on_Mis'].describe()"
   ]
  },
  {
   "cell_type": "markdown",
   "metadata": {},
   "source": [
    "__NOTES__\n",
    "\n",
    "\n",
    "The Curriculum Dev team has provided a set of benchmarks to measure how students are performing based on how long they've been working on the 3rd grade mission. These benchmarks can be found on the \"Rayse Curriculum outline and Benchmarks\" document on the google drive under Rayse Academy > Curriculum Development > Rayse Curriculum and Benchmarks.\n"
   ]
  },
  {
   "cell_type": "code",
   "execution_count": 41,
   "metadata": {},
   "outputs": [],
   "source": [
    "### measuring against benchmarks\n",
    "\n",
    "\n",
    "def bench(x):\n",
    "    if x['Total_Wks_on_Mis'] < 1.0 and x['Total_Wks_on_Mis'] > 0.0:\n",
    "        return 'student not past first two session'   \n",
    "    elif x['Total_Wks_on_Mis'] <= 1.5 and x['Total_Wks_on_Mis'] > 1.0:\n",
    "        if x['Progress'] > 0.04 and x['Progress'] < 0.08:\n",
    "            return 'student inside range req'\n",
    "        elif x['Progress'] > 0.08:\n",
    "            return'student ahead of range req'\n",
    "        elif x['Progress'] < 0.02:\n",
    "            return 'student below the range req'\n",
    "    elif x['Total_Wks_on_Mis'] <= 4.99 and x['Total_Wks_on_Mis'] > 1.5:\n",
    "        if x['Progress'] < 0.32 or x['Struggling'] > 0:\n",
    "            return 'struggling'\n",
    "        elif x['Progress'] > 0.6 and x['Struggling'] ==0:\n",
    "            return 'advanced'\n",
    "    elif x['Total_Wks_on_Mis'] > 5:\n",
    "        if x['Progress'] > 0.75 and x['Struggling']==0 and x['Needs Practice'] == 0:\n",
    "            return 'Mission passed, move to next mission'\n",
    "        else:\n",
    "            return 'must improve on mission' \n",
    "\n",
    "x = ccu01c.apply(bench,axis=1)\n"
   ]
  },
  {
   "cell_type": "code",
   "execution_count": 42,
   "metadata": {},
   "outputs": [],
   "source": [
    "ccu01c = pd.concat([ccu01c,x], axis =1)"
   ]
  },
  {
   "cell_type": "code",
   "execution_count": 43,
   "metadata": {},
   "outputs": [],
   "source": [
    "ccu01c.rename(columns={0: 'Benchmark Status'}, inplace=True)"
   ]
  },
  {
   "cell_type": "code",
   "execution_count": 44,
   "metadata": {},
   "outputs": [],
   "source": [
    "sns.set(color_codes=True)"
   ]
  },
  {
   "cell_type": "code",
   "execution_count": 167,
   "metadata": {},
   "outputs": [],
   "source": [
    "\n",
    "#sns.distplot(ka_roster_mis['Total_Time_on_Mis']);"
   ]
  },
  {
   "cell_type": "code",
   "execution_count": 46,
   "metadata": {},
   "outputs": [
    {
     "data": {
      "text/plain": [
       "student not past first two session      52\n",
       "must improve on mission                 39\n",
       "struggling                              33\n",
       "student ahead of range req               7\n",
       "Mission passed, move to next mission     2\n",
       "Name: Benchmark Status, dtype: int64"
      ]
     },
     "execution_count": 46,
     "metadata": {},
     "output_type": "execute_result"
    }
   ],
   "source": [
    "## Filter for the students currently on the roster\n",
    "\n",
    "ka_roster_mis = ccu01c[ccu01c.Student.isin(ka_roster)]\n",
    "\n",
    "#s.shape\n",
    "\n",
    "w = ka_roster_mis['Benchmark Status'].value_counts()\n",
    "w"
   ]
  },
  {
   "cell_type": "code",
   "execution_count": 78,
   "metadata": {},
   "outputs": [
    {
     "data": {
      "image/png": "[encoded data removed]",
      "text/plain": [
       "<matplotlib.figure.Figure at 0x1168bfda0>"
      ]
     },
     "metadata": {},
     "output_type": "display_data"
    }
   ],
   "source": [
    "import matplotlib.pyplot as plt\n",
    "w.plot(kind='bar',width=0.3,figsize=(15,7))\n",
    "plt.xticks(rotation=0)\n",
    "plt.title('Students Status on Benchmarks')\n",
    "\n",
    "plt.show()"
   ]
  },
  {
   "cell_type": "code",
   "execution_count": null,
   "metadata": {},
   "outputs": [],
   "source": [
    "\n"
   ]
  },
  {
   "cell_type": "code",
   "execution_count": 80,
   "metadata": {},
   "outputs": [
    {
     "data": {
      "text/plain": [
       "<matplotlib.text.Text at 0x116242f28>"
      ]
     },
     "execution_count": 80,
     "metadata": {},
     "output_type": "execute_result"
    },
    {
     "data": {
      "image/png": "[encoded data removed]",
      "text/plain": [
       "<matplotlib.figure.Figure at 0x1164c7128>"
      ]
     },
     "metadata": {},
     "output_type": "display_data"
    }
   ],
   "source": [
    "bin_values = np.arange(start=0, stop=1, step=0.1)\n",
    "\n",
    "ka_roster_mis['Progress'].hist(bins=bin_values, figsize=[14,6], ec='black')\n",
    "plt.title('Histogram of Progress',fontsize=16)\n",
    "plt.ylabel('Student Count',fontsize=14)\n",
    "plt.xlabel('Progress',fontsize=14)"
   ]
  },
  {
   "cell_type": "code",
   "execution_count": 81,
   "metadata": {},
   "outputs": [
    {
     "data": {
      "text/plain": [
       "<matplotlib.text.Text at 0x1166819e8>"
      ]
     },
     "execution_count": 81,
     "metadata": {},
     "output_type": "execute_result"
    },
    {
     "data": {
      "image/png": "[encoded data removed]",
      "text/plain": [
       "<matplotlib.figure.Figure at 0x11626fe80>"
      ]
     },
     "metadata": {},
     "output_type": "display_data"
    }
   ],
   "source": [
    "bin_values = np.arange(start=0, stop=50, step=5)\n",
    "\n",
    "ka_roster_mis['Total_Hrs_on_Mis'].hist(bins=bin_values, figsize=[14,6], ec='black')\n",
    "plt.title('Histogram of Hours on KA',fontsize=16)\n",
    "plt.ylabel('Student Count',fontsize=14)\n",
    "plt.xlabel('Hours Spent',fontsize=14)"
   ]
  },
  {
   "cell_type": "code",
   "execution_count": 54,
   "metadata": {},
   "outputs": [
    {
     "data": {
      "text/plain": [
       "<matplotlib.text.Text at 0x11648cac8>"
      ]
     },
     "execution_count": 54,
     "metadata": {},
     "output_type": "execute_result"
    },
    {
     "data": {
      "image/png": "[encoded data removed]",
      "text/plain": [
       "<matplotlib.figure.Figure at 0x116adfc88>"
      ]
     },
     "metadata": {},
     "output_type": "display_data"
    }
   ],
   "source": [
    "plt.scatter(ka_roster_mis['ex.time.median'],ka_roster_mis.Progress)\n",
    "plt.title('Scatterplot of ex.time.median/Progress',fontsize=16)\n",
    "plt.xlabel(' Median Time per exercise',fontsize=14)\n",
    "plt.ylabel('Progress',fontsize=14)"
   ]
  },
  {
   "cell_type": "code",
   "execution_count": 72,
   "metadata": {},
   "outputs": [
    {
     "data": {
      "text/plain": [
       "array([[ 1.        ,  0.70818873],\n",
       "       [ 0.70818873,  1.        ]])"
      ]
     },
     "execution_count": 72,
     "metadata": {},
     "output_type": "execute_result"
    }
   ],
   "source": [
    "ka = ka_roster_mis.dropna()\n",
    "np.corrcoef(ka['ex.time.median'], ka.Progress)"
   ]
  },
  {
   "cell_type": "code",
   "execution_count": 55,
   "metadata": {},
   "outputs": [
    {
     "data": {
      "text/plain": [
       "<matplotlib.text.Text at 0x1163e65f8>"
      ]
     },
     "execution_count": 55,
     "metadata": {},
     "output_type": "execute_result"
    },
    {
     "data": {
      "image/png": "[encoded data removed]",
      "text/plain": [
       "<matplotlib.figure.Figure at 0x1161c9400>"
      ]
     },
     "metadata": {},
     "output_type": "display_data"
    }
   ],
   "source": [
    "plt.scatter(ka_roster_mis['ex.time.avg'],ka_roster_mis.Progress)\n",
    "plt.title('Scatterplot of ex.time.avg/Progress',fontsize=16)\n",
    "plt.xlabel(' Average Time per exercise',fontsize=14)\n",
    "plt.ylabel('Progress',fontsize=14)"
   ]
  },
  {
   "cell_type": "code",
   "execution_count": 71,
   "metadata": {},
   "outputs": [
    {
     "data": {
      "text/plain": [
       "array([[ 1.        ,  0.78443877],\n",
       "       [ 0.78443877,  1.        ]])"
      ]
     },
     "execution_count": 71,
     "metadata": {},
     "output_type": "execute_result"
    }
   ],
   "source": [
    "# Pearson Correlation Coefficient\n",
    "ka = ka_roster_mis.dropna()\n",
    "np.corrcoef(ka['ex.time.avg'], ka.Progress)"
   ]
  },
  {
   "cell_type": "code",
   "execution_count": null,
   "metadata": {},
   "outputs": [],
   "source": [
    "\n"
   ]
  },
  {
   "cell_type": "code",
   "execution_count": null,
   "metadata": {},
   "outputs": [],
   "source": []
  }
 ],
 "metadata": {
  "kernelspec": {
   "display_name": "Python 3",
   "language": "python",
   "name": "python3"
  },
  "language_info": {
   "codemirror_mode": {
    "name": "ipython",
    "version": 3
   },
   "file_extension": ".py",
   "mimetype": "text/x-python",
   "name": "python",
   "nbconvert_exporter": "python",
   "pygments_lexer": "ipython3",
   "version": "3.6.3"
  }
 },
 "nbformat": 4,
 "nbformat_minor": 2
}
