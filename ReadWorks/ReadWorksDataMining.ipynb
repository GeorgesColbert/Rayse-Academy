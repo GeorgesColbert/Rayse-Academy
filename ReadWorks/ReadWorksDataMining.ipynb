{
 "cells": [
  {
   "cell_type": "code",
   "execution_count": 135,
   "metadata": {
    "collapsed": true
   },
   "outputs": [],
   "source": [
    "import numpy as np\n",
    "import pandas as pd\n",
    "import matplotlib.pyplot as plt\n",
    "import seaborn as sns\n",
    "from scipy import stats\n",
    "%matplotlib inline\n",
    "sns.set()\n",
    "\n",
    "\n",
    "Reading = pd.read_csv('~/Desktop/Projects/RAYSE ACADEMY/ReadWorks/Readworks.Reading.ccu01.csv')\n"
   ]
  },
  {
   "cell_type": "code",
   "execution_count": 136,
   "metadata": {},
   "outputs": [],
   "source": [
    "### Data from Roster page inserted\n",
    "Roster = pd.read_excel('~/Desktop/Projects/RAYSE ACADEMY/Khan.Academy.August/Roster.xlsx',\n",
    "                        sheetname='ROA')\n",
    "\n",
    "Attendance = pd.read_excel('~/Desktop/Projects/RAYSE ACADEMY/Khan.Academy.August/Roster.xlsx',\n",
    "                        sheetname='Attendance')"
   ]
  },
  {
   "cell_type": "code",
   "execution_count": 138,
   "metadata": {},
   "outputs": [],
   "source": [
    "### Filter for students who have a ccu01 id attached to their account\n",
    "\n",
    "\n",
    "Reading = Reading[Reading['Students'].str.contains('ccu01')]"
   ]
  },
  {
   "cell_type": "code",
   "execution_count": 139,
   "metadata": {},
   "outputs": [
    {
     "data": {
      "text/plain": [
       "(149, 7)"
      ]
     },
     "execution_count": 139,
     "metadata": {},
     "output_type": "execute_result"
    }
   ],
   "source": [
    "Reading.shape"
   ]
  },
  {
   "cell_type": "markdown",
   "metadata": {},
   "source": [
    "149 have a Readworks account with their respective ccu0 Id matched. there are around 30 names on Readworks with no ccu Id."
   ]
  },
  {
   "cell_type": "code",
   "execution_count": 140,
   "metadata": {},
   "outputs": [],
   "source": [
    "mp = Roster.ID"
   ]
  },
  {
   "cell_type": "code",
   "execution_count": 141,
   "metadata": {},
   "outputs": [],
   "source": [
    "# Extract ccu IDs and create seperate column\n",
    "s = Reading['Students'].str.split().str[-1]\n",
    "Reading = pd.concat([Reading, s], axis=1)"
   ]
  },
  {
   "cell_type": "code",
   "execution_count": null,
   "metadata": {},
   "outputs": [],
   "source": []
  },
  {
   "cell_type": "code",
   "execution_count": 143,
   "metadata": {},
   "outputs": [],
   "source": [
    "Reading.columns.values[0] = 'Name'"
   ]
  },
  {
   "cell_type": "code",
   "execution_count": 144,
   "metadata": {},
   "outputs": [],
   "source": [
    "# Find Students with ccu01Ds that match with the Roster\n",
    "    \n",
    "ccuRead = Reading[Reading.Students.isin(mp)]\n",
    "not_ccuRead = Reading[~Reading.Students.isin(mp)]    \n",
    "    "
   ]
  },
  {
   "cell_type": "code",
   "execution_count": 145,
   "metadata": {},
   "outputs": [
    {
     "data": {
      "text/html": [
       "<div>\n",
       "<style>\n",
       "    .dataframe thead tr:only-child th {\n",
       "        text-align: right;\n",
       "    }\n",
       "\n",
       "    .dataframe thead th {\n",
       "        text-align: left;\n",
       "    }\n",
       "\n",
       "    .dataframe tbody tr th {\n",
       "        vertical-align: top;\n",
       "    }\n",
       "</style>\n",
       "<table border=\"1\" class=\"dataframe\">\n",
       "  <thead>\n",
       "    <tr style=\"text-align: right;\">\n",
       "      <th></th>\n",
       "      <th>Name</th>\n",
       "      <th>Nonfiction Articles Read</th>\n",
       "      <th>Nonfiction Words Read</th>\n",
       "      <th>Literary Articles Read</th>\n",
       "      <th>Literary Words Read</th>\n",
       "      <th>Total Articles Read</th>\n",
       "      <th>Total Words Read</th>\n",
       "      <th>Students</th>\n",
       "    </tr>\n",
       "  </thead>\n",
       "  <tbody>\n",
       "    <tr>\n",
       "      <th>77</th>\n",
       "      <td>Nikhat Parveen ccu01s256</td>\n",
       "      <td>14.0</td>\n",
       "      <td>1209.0</td>\n",
       "      <td>8.0</td>\n",
       "      <td>576.0</td>\n",
       "      <td>22.0</td>\n",
       "      <td>1785</td>\n",
       "      <td>ccu01s256</td>\n",
       "    </tr>\n",
       "    <tr>\n",
       "      <th>153</th>\n",
       "      <td>Zainab Shakir ccu01s380</td>\n",
       "      <td>16.0</td>\n",
       "      <td>1429.0</td>\n",
       "      <td>9.0</td>\n",
       "      <td>653.0</td>\n",
       "      <td>25.0</td>\n",
       "      <td>2082</td>\n",
       "      <td>ccu01s380</td>\n",
       "    </tr>\n",
       "  </tbody>\n",
       "</table>\n",
       "</div>"
      ],
      "text/plain": [
       "                         Name  Nonfiction Articles Read  \\\n",
       "77   Nikhat Parveen ccu01s256                      14.0   \n",
       "153   Zainab Shakir ccu01s380                      16.0   \n",
       "\n",
       "     Nonfiction Words Read  Literary Articles Read  Literary Words Read  \\\n",
       "77                  1209.0                     8.0                576.0   \n",
       "153                 1429.0                     9.0                653.0   \n",
       "\n",
       "     Total Articles Read Total Words Read   Students  \n",
       "77                  22.0             1785  ccu01s256  \n",
       "153                 25.0             2082  ccu01s380  "
      ]
     },
     "execution_count": 145,
     "metadata": {},
     "output_type": "execute_result"
    }
   ],
   "source": [
    "# Who are the students without mathcing IDs from the roster\n",
    "not_ccuRead\n",
    "\n"
   ]
  },
  {
   "cell_type": "markdown",
   "metadata": {},
   "source": [
    "__NOTES__\n",
    "\n",
    "It's my impression that despite the previous two students not having a matching ID on the Roster, they are on attending the academy. The issue is with how their ID is inputed on the Roster, which the responsible party should into. The one issue identified with Nikhat Parveen is that she is registered as 'ccu01s0256' with a 0 where it shouldn't be.\n",
    "\n",
    "\n",
    "\n",
    "\n",
    "\n"
   ]
  },
  {
   "cell_type": "code",
   "execution_count": 146,
   "metadata": {},
   "outputs": [
    {
     "data": {
      "text/plain": [
       "(147, 8)"
      ]
     },
     "execution_count": 146,
     "metadata": {},
     "output_type": "execute_result"
    }
   ],
   "source": [
    "ccuRead.shape"
   ]
  },
  {
   "cell_type": "markdown",
   "metadata": {},
   "source": [
    "__NOTES__\n",
    "\n",
    "There are 147 out 181 kids from the roster with a matching ID, and there are 34 students with no matching ID."
   ]
  },
  {
   "cell_type": "code",
   "execution_count": 147,
   "metadata": {},
   "outputs": [
    {
     "name": "stderr",
     "output_type": "stream",
     "text": [
      "/Users/georgesericcolbert/anaconda/lib/python3.6/site-packages/ipykernel_launcher.py:1: SettingWithCopyWarning: \n",
      "A value is trying to be set on a copy of a slice from a DataFrame.\n",
      "Try using .loc[row_indexer,col_indexer] = value instead\n",
      "\n",
      "See the caveats in the documentation: http://pandas.pydata.org/pandas-docs/stable/indexing.html#indexing-view-versus-copy\n",
      "  \"\"\"Entry point for launching an IPython kernel.\n"
     ]
    }
   ],
   "source": [
    "ccuRead['Total Words Read'] = ccuRead['Total Words Read'].astype(int)"
   ]
  },
  {
   "cell_type": "code",
   "execution_count": 149,
   "metadata": {},
   "outputs": [
    {
     "data": {
      "text/plain": [
       "count     147.000000\n",
       "mean     1812.945578\n",
       "std      1381.423158\n",
       "min         0.000000\n",
       "25%       852.500000\n",
       "50%      1770.000000\n",
       "75%      2443.000000\n",
       "max      7257.000000\n",
       "Name: Total Words Read, dtype: float64"
      ]
     },
     "execution_count": 149,
     "metadata": {},
     "output_type": "execute_result"
    }
   ],
   "source": [
    "ccuRead['Total Words Read'].describe()"
   ]
  },
  {
   "cell_type": "markdown",
   "metadata": {},
   "source": [
    "__NOTES__\n",
    "\n",
    "The Average number of Words read is 1812, with a standard deviation of 1381 words indicating there is a wide range of performance amonsgt students.  The max number of words for a student is 7527.\n",
    "\n",
    "\n"
   ]
  },
  {
   "cell_type": "code",
   "execution_count": 319,
   "metadata": {},
   "outputs": [
    {
     "data": {
      "text/plain": [
       "<matplotlib.text.Text at 0x120b1d6a0>"
      ]
     },
     "execution_count": 319,
     "metadata": {},
     "output_type": "execute_result"
    },
    {
     "data": {
      "image/png": "[encoded data removed]",
      "text/plain": [
       "<matplotlib.figure.Figure at 0x12105bc88>"
      ]
     },
     "metadata": {},
     "output_type": "display_data"
    }
   ],
   "source": [
    "# Histogram of Words Read\n",
    "bin_values = np.arange(start=0, stop=8000, step=500)\n",
    "\n",
    "ccuRead['Total Words Read'].hist(bins=bin_values, figsize=[14,6], ec='black')\n",
    "plt.title('Histogram of Words Read',fontsize=16)\n",
    "plt.ylabel('Student Count',fontsize=14)\n",
    "plt.xlabel('# of Words Read',fontsize=14)"
   ]
  },
  {
   "cell_type": "markdown",
   "metadata": {},
   "source": [
    "__Students With More Than 6000 words Read__"
   ]
  },
  {
   "cell_type": "code",
   "execution_count": 187,
   "metadata": {},
   "outputs": [
    {
     "data": {
      "text/html": [
       "<div>\n",
       "<style>\n",
       "    .dataframe thead tr:only-child th {\n",
       "        text-align: right;\n",
       "    }\n",
       "\n",
       "    .dataframe thead th {\n",
       "        text-align: left;\n",
       "    }\n",
       "\n",
       "    .dataframe tbody tr th {\n",
       "        vertical-align: top;\n",
       "    }\n",
       "</style>\n",
       "<table border=\"1\" class=\"dataframe\">\n",
       "  <thead>\n",
       "    <tr style=\"text-align: right;\">\n",
       "      <th></th>\n",
       "      <th>Name</th>\n",
       "      <th>Nonfiction Articles Read</th>\n",
       "      <th>Nonfiction Words Read</th>\n",
       "      <th>Literary Articles Read</th>\n",
       "      <th>Literary Words Read</th>\n",
       "      <th>Total Articles Read</th>\n",
       "      <th>Total Words Read</th>\n",
       "      <th>Students</th>\n",
       "    </tr>\n",
       "  </thead>\n",
       "  <tbody>\n",
       "    <tr>\n",
       "      <th>34</th>\n",
       "      <td>Sumaiya Ashraf ccu01s056</td>\n",
       "      <td>26.0</td>\n",
       "      <td>6457.0</td>\n",
       "      <td>10.0</td>\n",
       "      <td>800.0</td>\n",
       "      <td>36.0</td>\n",
       "      <td>7257</td>\n",
       "      <td>ccu01s056</td>\n",
       "    </tr>\n",
       "    <tr>\n",
       "      <th>50</th>\n",
       "      <td>Umme Habiba ccu01s094</td>\n",
       "      <td>24.0</td>\n",
       "      <td>6158.0</td>\n",
       "      <td>10.0</td>\n",
       "      <td>800.0</td>\n",
       "      <td>34.0</td>\n",
       "      <td>6958</td>\n",
       "      <td>ccu01s094</td>\n",
       "    </tr>\n",
       "    <tr>\n",
       "      <th>56</th>\n",
       "      <td>Saiqua Parveen ccu01s102</td>\n",
       "      <td>24.0</td>\n",
       "      <td>6158.0</td>\n",
       "      <td>10.0</td>\n",
       "      <td>800.0</td>\n",
       "      <td>34.0</td>\n",
       "      <td>6958</td>\n",
       "      <td>ccu01s102</td>\n",
       "    </tr>\n",
       "    <tr>\n",
       "      <th>57</th>\n",
       "      <td>Sabrun Nessa ccu01s104</td>\n",
       "      <td>24.0</td>\n",
       "      <td>6158.0</td>\n",
       "      <td>10.0</td>\n",
       "      <td>800.0</td>\n",
       "      <td>34.0</td>\n",
       "      <td>6958</td>\n",
       "      <td>ccu01s104</td>\n",
       "    </tr>\n",
       "    <tr>\n",
       "      <th>59</th>\n",
       "      <td>Nikhat Parveen ccu01s108</td>\n",
       "      <td>24.0</td>\n",
       "      <td>6158.0</td>\n",
       "      <td>10.0</td>\n",
       "      <td>800.0</td>\n",
       "      <td>34.0</td>\n",
       "      <td>6958</td>\n",
       "      <td>ccu01s108</td>\n",
       "    </tr>\n",
       "    <tr>\n",
       "      <th>132</th>\n",
       "      <td>Iqra Akhtar ccu01s347</td>\n",
       "      <td>24.0</td>\n",
       "      <td>6158.0</td>\n",
       "      <td>10.0</td>\n",
       "      <td>800.0</td>\n",
       "      <td>34.0</td>\n",
       "      <td>6958</td>\n",
       "      <td>ccu01s347</td>\n",
       "    </tr>\n",
       "  </tbody>\n",
       "</table>\n",
       "</div>"
      ],
      "text/plain": [
       "                         Name  Nonfiction Articles Read  \\\n",
       "34   Sumaiya Ashraf ccu01s056                      26.0   \n",
       "50      Umme Habiba ccu01s094                      24.0   \n",
       "56   Saiqua Parveen ccu01s102                      24.0   \n",
       "57     Sabrun Nessa ccu01s104                      24.0   \n",
       "59   Nikhat Parveen ccu01s108                      24.0   \n",
       "132     Iqra Akhtar ccu01s347                      24.0   \n",
       "\n",
       "     Nonfiction Words Read  Literary Articles Read  Literary Words Read  \\\n",
       "34                  6457.0                    10.0                800.0   \n",
       "50                  6158.0                    10.0                800.0   \n",
       "56                  6158.0                    10.0                800.0   \n",
       "57                  6158.0                    10.0                800.0   \n",
       "59                  6158.0                    10.0                800.0   \n",
       "132                 6158.0                    10.0                800.0   \n",
       "\n",
       "     Total Articles Read  Total Words Read   Students  \n",
       "34                  36.0              7257  ccu01s056  \n",
       "50                  34.0              6958  ccu01s094  \n",
       "56                  34.0              6958  ccu01s102  \n",
       "57                  34.0              6958  ccu01s104  \n",
       "59                  34.0              6958  ccu01s108  \n",
       "132                 34.0              6958  ccu01s347  "
      ]
     },
     "execution_count": 187,
     "metadata": {},
     "output_type": "execute_result"
    }
   ],
   "source": [
    "Over_ach = ccuRead.loc[ccuRead['Total Words Read'] > 5000]\n",
    "Over_ach"
   ]
  },
  {
   "cell_type": "code",
   "execution_count": 320,
   "metadata": {},
   "outputs": [
    {
     "data": {
      "text/plain": [
       "<matplotlib.text.Text at 0x1211ba9b0>"
      ]
     },
     "execution_count": 320,
     "metadata": {},
     "output_type": "execute_result"
    },
    {
     "data": {
      "image/png": "[encoded data removed]",
      "text/plain": [
       "<matplotlib.figure.Figure at 0x12108b5c0>"
      ]
     },
     "metadata": {},
     "output_type": "display_data"
    }
   ],
   "source": [
    "# Histogram of Articles Read\n",
    "bin_values = np.arange(start=0, stop=36, step=3)\n",
    "\n",
    "ccuRead['Total Articles Read'].hist(bins=bin_values, figsize=[14,6], ec='black')\n",
    "plt.title('Histogram of Articles Read',fontsize=16)\n",
    "plt.ylabel('Student Count',fontsize=14)\n",
    "plt.xlabel('# of Articles Read',fontsize=14)"
   ]
  },
  {
   "cell_type": "markdown",
   "metadata": {},
   "source": [
    "__Students With More than 30 Articles Read__"
   ]
  },
  {
   "cell_type": "code",
   "execution_count": 174,
   "metadata": {},
   "outputs": [
    {
     "data": {
      "text/html": [
       "<div>\n",
       "<style>\n",
       "    .dataframe thead tr:only-child th {\n",
       "        text-align: right;\n",
       "    }\n",
       "\n",
       "    .dataframe thead th {\n",
       "        text-align: left;\n",
       "    }\n",
       "\n",
       "    .dataframe tbody tr th {\n",
       "        vertical-align: top;\n",
       "    }\n",
       "</style>\n",
       "<table border=\"1\" class=\"dataframe\">\n",
       "  <thead>\n",
       "    <tr style=\"text-align: right;\">\n",
       "      <th></th>\n",
       "      <th>Name</th>\n",
       "      <th>Nonfiction Articles Read</th>\n",
       "      <th>Nonfiction Words Read</th>\n",
       "      <th>Literary Articles Read</th>\n",
       "      <th>Literary Words Read</th>\n",
       "      <th>Total Articles Read</th>\n",
       "      <th>Total Words Read</th>\n",
       "      <th>Students</th>\n",
       "    </tr>\n",
       "  </thead>\n",
       "  <tbody>\n",
       "    <tr>\n",
       "      <th>34</th>\n",
       "      <td>Sumaiya Ashraf ccu01s056</td>\n",
       "      <td>26.0</td>\n",
       "      <td>6457.0</td>\n",
       "      <td>10.0</td>\n",
       "      <td>800.0</td>\n",
       "      <td>36.0</td>\n",
       "      <td>7257</td>\n",
       "      <td>ccu01s056</td>\n",
       "    </tr>\n",
       "    <tr>\n",
       "      <th>50</th>\n",
       "      <td>Umme Habiba ccu01s094</td>\n",
       "      <td>24.0</td>\n",
       "      <td>6158.0</td>\n",
       "      <td>10.0</td>\n",
       "      <td>800.0</td>\n",
       "      <td>34.0</td>\n",
       "      <td>6958</td>\n",
       "      <td>ccu01s094</td>\n",
       "    </tr>\n",
       "    <tr>\n",
       "      <th>56</th>\n",
       "      <td>Saiqua Parveen ccu01s102</td>\n",
       "      <td>24.0</td>\n",
       "      <td>6158.0</td>\n",
       "      <td>10.0</td>\n",
       "      <td>800.0</td>\n",
       "      <td>34.0</td>\n",
       "      <td>6958</td>\n",
       "      <td>ccu01s102</td>\n",
       "    </tr>\n",
       "    <tr>\n",
       "      <th>57</th>\n",
       "      <td>Sabrun Nessa ccu01s104</td>\n",
       "      <td>24.0</td>\n",
       "      <td>6158.0</td>\n",
       "      <td>10.0</td>\n",
       "      <td>800.0</td>\n",
       "      <td>34.0</td>\n",
       "      <td>6958</td>\n",
       "      <td>ccu01s104</td>\n",
       "    </tr>\n",
       "    <tr>\n",
       "      <th>59</th>\n",
       "      <td>Nikhat Parveen ccu01s108</td>\n",
       "      <td>24.0</td>\n",
       "      <td>6158.0</td>\n",
       "      <td>10.0</td>\n",
       "      <td>800.0</td>\n",
       "      <td>34.0</td>\n",
       "      <td>6958</td>\n",
       "      <td>ccu01s108</td>\n",
       "    </tr>\n",
       "    <tr>\n",
       "      <th>110</th>\n",
       "      <td>Khusnuma Alam ccu01s318</td>\n",
       "      <td>21.0</td>\n",
       "      <td>2250.0</td>\n",
       "      <td>10.0</td>\n",
       "      <td>800.0</td>\n",
       "      <td>31.0</td>\n",
       "      <td>3050</td>\n",
       "      <td>ccu01s318</td>\n",
       "    </tr>\n",
       "    <tr>\n",
       "      <th>118</th>\n",
       "      <td>Naushin Islam ccu01s326</td>\n",
       "      <td>21.0</td>\n",
       "      <td>2250.0</td>\n",
       "      <td>10.0</td>\n",
       "      <td>800.0</td>\n",
       "      <td>31.0</td>\n",
       "      <td>3050</td>\n",
       "      <td>ccu01s326</td>\n",
       "    </tr>\n",
       "    <tr>\n",
       "      <th>132</th>\n",
       "      <td>Iqra Akhtar ccu01s347</td>\n",
       "      <td>24.0</td>\n",
       "      <td>6158.0</td>\n",
       "      <td>10.0</td>\n",
       "      <td>800.0</td>\n",
       "      <td>34.0</td>\n",
       "      <td>6958</td>\n",
       "      <td>ccu01s347</td>\n",
       "    </tr>\n",
       "  </tbody>\n",
       "</table>\n",
       "</div>"
      ],
      "text/plain": [
       "                         Name  Nonfiction Articles Read  \\\n",
       "34   Sumaiya Ashraf ccu01s056                      26.0   \n",
       "50      Umme Habiba ccu01s094                      24.0   \n",
       "56   Saiqua Parveen ccu01s102                      24.0   \n",
       "57     Sabrun Nessa ccu01s104                      24.0   \n",
       "59   Nikhat Parveen ccu01s108                      24.0   \n",
       "110   Khusnuma Alam ccu01s318                      21.0   \n",
       "118   Naushin Islam ccu01s326                      21.0   \n",
       "132     Iqra Akhtar ccu01s347                      24.0   \n",
       "\n",
       "     Nonfiction Words Read  Literary Articles Read  Literary Words Read  \\\n",
       "34                  6457.0                    10.0                800.0   \n",
       "50                  6158.0                    10.0                800.0   \n",
       "56                  6158.0                    10.0                800.0   \n",
       "57                  6158.0                    10.0                800.0   \n",
       "59                  6158.0                    10.0                800.0   \n",
       "110                 2250.0                    10.0                800.0   \n",
       "118                 2250.0                    10.0                800.0   \n",
       "132                 6158.0                    10.0                800.0   \n",
       "\n",
       "     Total Articles Read  Total Words Read   Students  \n",
       "34                  36.0              7257  ccu01s056  \n",
       "50                  34.0              6958  ccu01s094  \n",
       "56                  34.0              6958  ccu01s102  \n",
       "57                  34.0              6958  ccu01s104  \n",
       "59                  34.0              6958  ccu01s108  \n",
       "110                 31.0              3050  ccu01s318  \n",
       "118                 31.0              3050  ccu01s326  \n",
       "132                 34.0              6958  ccu01s347  "
      ]
     },
     "execution_count": 174,
     "metadata": {},
     "output_type": "execute_result"
    }
   ],
   "source": [
    "ccuRead.loc[ccuRead['Total Articles Read'] > 30]"
   ]
  },
  {
   "cell_type": "code",
   "execution_count": 176,
   "metadata": {},
   "outputs": [],
   "source": [
    "###\n",
    "\n",
    "\n",
    "\n",
    "ComprehensionQ = pd.read_csv('~/Desktop/Projects/RAYSE ACADEMY/ReadWorks/Readworks.ComprehensionQ.ccu01.csv')"
   ]
  },
  {
   "cell_type": "code",
   "execution_count": 177,
   "metadata": {},
   "outputs": [],
   "source": [
    "### Filter for students who have a ccu01 id attached to their account\n",
    "\n",
    "\n",
    "ComprehensionQ = ComprehensionQ[ComprehensionQ['Students'].str.contains('ccu01')]"
   ]
  },
  {
   "cell_type": "code",
   "execution_count": 178,
   "metadata": {},
   "outputs": [],
   "source": [
    "# Extract ccu ID and create seperate column\n",
    "s = ComprehensionQ['Students'].str.split().str[-1]\n",
    "\n",
    "CompQ = pd.concat([ComprehensionQ, s], axis=1)"
   ]
  },
  {
   "cell_type": "code",
   "execution_count": 179,
   "metadata": {},
   "outputs": [],
   "source": [
    "CompQ.columns.values[0] = 'Name'\n",
    "CompQ.columns.values[-1] = 'ID'"
   ]
  },
  {
   "cell_type": "code",
   "execution_count": 180,
   "metadata": {},
   "outputs": [],
   "source": [
    "# Find Students with ccu01Ds that match with the Roster\n",
    "    \n",
    "compQ = CompQ[CompQ['ID'].isin(mp)]\n",
    "not_compQ = CompQ[~CompQ['ID'].isin(mp)]    \n",
    "\n"
   ]
  },
  {
   "cell_type": "code",
   "execution_count": 181,
   "metadata": {},
   "outputs": [
    {
     "data": {
      "text/html": [
       "<div>\n",
       "<style>\n",
       "    .dataframe thead tr:only-child th {\n",
       "        text-align: right;\n",
       "    }\n",
       "\n",
       "    .dataframe thead th {\n",
       "        text-align: left;\n",
       "    }\n",
       "\n",
       "    .dataframe tbody tr th {\n",
       "        vertical-align: top;\n",
       "    }\n",
       "</style>\n",
       "<table border=\"1\" class=\"dataframe\">\n",
       "  <thead>\n",
       "    <tr style=\"text-align: right;\">\n",
       "      <th></th>\n",
       "      <th>Name</th>\n",
       "      <th>Question Sets Submitted</th>\n",
       "      <th>Question Sets Assigned</th>\n",
       "      <th>Correct</th>\n",
       "      <th>Graded</th>\n",
       "      <th>% Correct</th>\n",
       "      <th>ID</th>\n",
       "    </tr>\n",
       "  </thead>\n",
       "  <tbody>\n",
       "    <tr>\n",
       "      <th>77</th>\n",
       "      <td>Nikhat Parveen ccu01s256</td>\n",
       "      <td>22.0</td>\n",
       "      <td>33.0</td>\n",
       "      <td>84.0</td>\n",
       "      <td>90.0</td>\n",
       "      <td>93%</td>\n",
       "      <td>ccu01s256</td>\n",
       "    </tr>\n",
       "    <tr>\n",
       "      <th>153</th>\n",
       "      <td>Zainab Shakir ccu01s380</td>\n",
       "      <td>25.0</td>\n",
       "      <td>33.0</td>\n",
       "      <td>72.0</td>\n",
       "      <td>101.0</td>\n",
       "      <td>71%</td>\n",
       "      <td>ccu01s380</td>\n",
       "    </tr>\n",
       "  </tbody>\n",
       "</table>\n",
       "</div>"
      ],
      "text/plain": [
       "                         Name  Question Sets Submitted  \\\n",
       "77   Nikhat Parveen ccu01s256                     22.0   \n",
       "153   Zainab Shakir ccu01s380                     25.0   \n",
       "\n",
       "     Question Sets Assigned  Correct  Graded % Correct         ID  \n",
       "77                     33.0     84.0    90.0       93%  ccu01s256  \n",
       "153                    33.0     72.0   101.0       71%  ccu01s380  "
      ]
     },
     "execution_count": 181,
     "metadata": {},
     "output_type": "execute_result"
    }
   ],
   "source": [
    "not_compQ"
   ]
  },
  {
   "cell_type": "code",
   "execution_count": 182,
   "metadata": {},
   "outputs": [
    {
     "name": "stderr",
     "output_type": "stream",
     "text": [
      "/Users/georgesericcolbert/anaconda/lib/python3.6/site-packages/ipykernel_launcher.py:1: SettingWithCopyWarning: \n",
      "A value is trying to be set on a copy of a slice from a DataFrame.\n",
      "Try using .loc[row_indexer,col_indexer] = value instead\n",
      "\n",
      "See the caveats in the documentation: http://pandas.pydata.org/pandas-docs/stable/indexing.html#indexing-view-versus-copy\n",
      "  \"\"\"Entry point for launching an IPython kernel.\n"
     ]
    }
   ],
   "source": [
    "compQ['Percent'] = compQ['Correct']/compQ['Graded']"
   ]
  },
  {
   "cell_type": "code",
   "execution_count": 321,
   "metadata": {},
   "outputs": [
    {
     "data": {
      "text/plain": [
       "<matplotlib.text.Text at 0x1213a6a90>"
      ]
     },
     "execution_count": 321,
     "metadata": {},
     "output_type": "execute_result"
    },
    {
     "data": {
      "image/png": "[encoded data removed]",
      "text/plain": [
       "<matplotlib.figure.Figure at 0x1213fd898>"
      ]
     },
     "metadata": {},
     "output_type": "display_data"
    }
   ],
   "source": [
    "# Histogram of Correct Answers\n",
    "bin_values = np.arange(start=0, stop=1, step=0.05)\n",
    "\n",
    "compQ['Percent'].hist(bins=bin_values, figsize=[14,6], ec='black')\n",
    "plt.title('Histogram of Students Correct',fontsize=16)\n",
    "plt.ylabel('Student Count',fontsize=14)\n",
    "plt.xlabel('Percentage of Correct Answers',fontsize=14)"
   ]
  },
  {
   "cell_type": "code",
   "execution_count": 322,
   "metadata": {},
   "outputs": [
    {
     "data": {
      "text/plain": [
       "<matplotlib.text.Text at 0x12160e550>"
      ]
     },
     "execution_count": 322,
     "metadata": {},
     "output_type": "execute_result"
    },
    {
     "data": {
      "image/png": "[encoded data removed]",
      "text/plain": [
       "<matplotlib.figure.Figure at 0x1216276a0>"
      ]
     },
     "metadata": {},
     "output_type": "display_data"
    }
   ],
   "source": [
    "# Histogram of Questions Submitted\n",
    "bin_values = np.arange(start=0, stop=33, step=3)\n",
    "\n",
    "compQ['Question Sets Submitted'].hist(bins=bin_values, figsize=[14,6], ec='black')\n",
    "plt.title('Histogram of Questions Submitted',fontsize=16)\n",
    "plt.ylabel('Student Count',fontsize=14)\n",
    "plt.xlabel('# of Questions Submitted',fontsize=14)"
   ]
  },
  {
   "cell_type": "code",
   "execution_count": 329,
   "metadata": {},
   "outputs": [
    {
     "data": {
      "text/html": [
       "<div>\n",
       "<style>\n",
       "    .dataframe thead tr:only-child th {\n",
       "        text-align: right;\n",
       "    }\n",
       "\n",
       "    .dataframe thead th {\n",
       "        text-align: left;\n",
       "    }\n",
       "\n",
       "    .dataframe tbody tr th {\n",
       "        vertical-align: top;\n",
       "    }\n",
       "</style>\n",
       "<table border=\"1\" class=\"dataframe\">\n",
       "  <thead>\n",
       "    <tr style=\"text-align: right;\">\n",
       "      <th></th>\n",
       "      <th>Name</th>\n",
       "      <th>Nonfiction Articles Read</th>\n",
       "      <th>Nonfiction Words Read</th>\n",
       "      <th>Literary Articles Read</th>\n",
       "      <th>Literary Words Read</th>\n",
       "      <th>Total Articles Read</th>\n",
       "      <th>Total Words Read</th>\n",
       "      <th>Students</th>\n",
       "    </tr>\n",
       "  </thead>\n",
       "  <tbody>\n",
       "    <tr>\n",
       "      <th>148</th>\n",
       "      <td>Hena Khatoon ccu01s372</td>\n",
       "      <td>14.0</td>\n",
       "      <td>1212.0</td>\n",
       "      <td>8.0</td>\n",
       "      <td>576.0</td>\n",
       "      <td>22.0</td>\n",
       "      <td>1788</td>\n",
       "      <td>ccu01s372</td>\n",
       "    </tr>\n",
       "    <tr>\n",
       "      <th>149</th>\n",
       "      <td>Alisha Khatoon ccu01s374</td>\n",
       "      <td>17.0</td>\n",
       "      <td>1569.0</td>\n",
       "      <td>7.0</td>\n",
       "      <td>593.0</td>\n",
       "      <td>24.0</td>\n",
       "      <td>2162</td>\n",
       "      <td>ccu01s374</td>\n",
       "    </tr>\n",
       "    <tr>\n",
       "      <th>150</th>\n",
       "      <td>Ajmeri Khatoon ccu01s375</td>\n",
       "      <td>5.0</td>\n",
       "      <td>444.0</td>\n",
       "      <td>4.0</td>\n",
       "      <td>281.0</td>\n",
       "      <td>9.0</td>\n",
       "      <td>725</td>\n",
       "      <td>ccu01s375</td>\n",
       "    </tr>\n",
       "    <tr>\n",
       "      <th>151</th>\n",
       "      <td>Rafat Parveen ccu01s376</td>\n",
       "      <td>3.0</td>\n",
       "      <td>251.0</td>\n",
       "      <td>6.0</td>\n",
       "      <td>417.0</td>\n",
       "      <td>9.0</td>\n",
       "      <td>668</td>\n",
       "      <td>ccu01s376</td>\n",
       "    </tr>\n",
       "    <tr>\n",
       "      <th>152</th>\n",
       "      <td>Saina Khatoon ccu01s377</td>\n",
       "      <td>19.0</td>\n",
       "      <td>1754.0</td>\n",
       "      <td>10.0</td>\n",
       "      <td>800.0</td>\n",
       "      <td>29.0</td>\n",
       "      <td>2554</td>\n",
       "      <td>ccu01s377</td>\n",
       "    </tr>\n",
       "  </tbody>\n",
       "</table>\n",
       "</div>"
      ],
      "text/plain": [
       "                         Name  Nonfiction Articles Read  \\\n",
       "148    Hena Khatoon ccu01s372                      14.0   \n",
       "149  Alisha Khatoon ccu01s374                      17.0   \n",
       "150  Ajmeri Khatoon ccu01s375                       5.0   \n",
       "151   Rafat Parveen ccu01s376                       3.0   \n",
       "152   Saina Khatoon ccu01s377                      19.0   \n",
       "\n",
       "     Nonfiction Words Read  Literary Articles Read  Literary Words Read  \\\n",
       "148                 1212.0                     8.0                576.0   \n",
       "149                 1569.0                     7.0                593.0   \n",
       "150                  444.0                     4.0                281.0   \n",
       "151                  251.0                     6.0                417.0   \n",
       "152                 1754.0                    10.0                800.0   \n",
       "\n",
       "     Total Articles Read  Total Words Read   Students  \n",
       "148                 22.0              1788  ccu01s372  \n",
       "149                 24.0              2162  ccu01s374  \n",
       "150                  9.0               725  ccu01s375  \n",
       "151                  9.0               668  ccu01s376  \n",
       "152                 29.0              2554  ccu01s377  "
      ]
     },
     "execution_count": 329,
     "metadata": {},
     "output_type": "execute_result"
    }
   ],
   "source": [
    "ccuRead.tail()"
   ]
  },
  {
   "cell_type": "code",
   "execution_count": 330,
   "metadata": {},
   "outputs": [
    {
     "data": {
      "text/html": [
       "<div>\n",
       "<style>\n",
       "    .dataframe thead tr:only-child th {\n",
       "        text-align: right;\n",
       "    }\n",
       "\n",
       "    .dataframe thead th {\n",
       "        text-align: left;\n",
       "    }\n",
       "\n",
       "    .dataframe tbody tr th {\n",
       "        vertical-align: top;\n",
       "    }\n",
       "</style>\n",
       "<table border=\"1\" class=\"dataframe\">\n",
       "  <thead>\n",
       "    <tr style=\"text-align: right;\">\n",
       "      <th></th>\n",
       "      <th>Name</th>\n",
       "      <th>Question Sets Submitted</th>\n",
       "      <th>Question Sets Assigned</th>\n",
       "      <th>Correct</th>\n",
       "      <th>Graded</th>\n",
       "      <th>% Correct</th>\n",
       "      <th>ID</th>\n",
       "      <th>Percent</th>\n",
       "    </tr>\n",
       "  </thead>\n",
       "  <tbody>\n",
       "    <tr>\n",
       "      <th>148</th>\n",
       "      <td>Hena Khatoon ccu01s372</td>\n",
       "      <td>22.0</td>\n",
       "      <td>33.0</td>\n",
       "      <td>68.0</td>\n",
       "      <td>86.0</td>\n",
       "      <td>79%</td>\n",
       "      <td>ccu01s372</td>\n",
       "      <td>0.790698</td>\n",
       "    </tr>\n",
       "    <tr>\n",
       "      <th>149</th>\n",
       "      <td>Alisha Khatoon ccu01s374</td>\n",
       "      <td>24.0</td>\n",
       "      <td>33.0</td>\n",
       "      <td>59.0</td>\n",
       "      <td>95.0</td>\n",
       "      <td>62%</td>\n",
       "      <td>ccu01s374</td>\n",
       "      <td>0.621053</td>\n",
       "    </tr>\n",
       "    <tr>\n",
       "      <th>150</th>\n",
       "      <td>Ajmeri Khatoon ccu01s375</td>\n",
       "      <td>9.0</td>\n",
       "      <td>33.0</td>\n",
       "      <td>31.0</td>\n",
       "      <td>43.0</td>\n",
       "      <td>72%</td>\n",
       "      <td>ccu01s375</td>\n",
       "      <td>0.720930</td>\n",
       "    </tr>\n",
       "    <tr>\n",
       "      <th>151</th>\n",
       "      <td>Rafat Parveen ccu01s376</td>\n",
       "      <td>9.0</td>\n",
       "      <td>33.0</td>\n",
       "      <td>29.0</td>\n",
       "      <td>34.0</td>\n",
       "      <td>85%</td>\n",
       "      <td>ccu01s376</td>\n",
       "      <td>0.852941</td>\n",
       "    </tr>\n",
       "    <tr>\n",
       "      <th>152</th>\n",
       "      <td>Saina Khatoon ccu01s377</td>\n",
       "      <td>29.0</td>\n",
       "      <td>33.0</td>\n",
       "      <td>96.0</td>\n",
       "      <td>118.0</td>\n",
       "      <td>81%</td>\n",
       "      <td>ccu01s377</td>\n",
       "      <td>0.813559</td>\n",
       "    </tr>\n",
       "  </tbody>\n",
       "</table>\n",
       "</div>"
      ],
      "text/plain": [
       "                         Name  Question Sets Submitted  \\\n",
       "148    Hena Khatoon ccu01s372                     22.0   \n",
       "149  Alisha Khatoon ccu01s374                     24.0   \n",
       "150  Ajmeri Khatoon ccu01s375                      9.0   \n",
       "151   Rafat Parveen ccu01s376                      9.0   \n",
       "152   Saina Khatoon ccu01s377                     29.0   \n",
       "\n",
       "     Question Sets Assigned  Correct  Graded % Correct         ID   Percent  \n",
       "148                    33.0     68.0    86.0       79%  ccu01s372  0.790698  \n",
       "149                    33.0     59.0    95.0       62%  ccu01s374  0.621053  \n",
       "150                    33.0     31.0    43.0       72%  ccu01s375  0.720930  \n",
       "151                    33.0     29.0    34.0       85%  ccu01s376  0.852941  \n",
       "152                    33.0     96.0   118.0       81%  ccu01s377  0.813559  "
      ]
     },
     "execution_count": 330,
     "metadata": {},
     "output_type": "execute_result"
    }
   ],
   "source": [
    "compQ.tail()"
   ]
  },
  {
   "cell_type": "code",
   "execution_count": 334,
   "metadata": {},
   "outputs": [],
   "source": [
    "a = compQ['Percent']\n",
    "b= ccuRead['Total Words Read']\n",
    "c = pd.concat([a,b], axis=1)"
   ]
  },
  {
   "cell_type": "code",
   "execution_count": 335,
   "metadata": {},
   "outputs": [
    {
     "data": {
      "text/plain": [
       "<matplotlib.text.Text at 0x12120a710>"
      ]
     },
     "execution_count": 335,
     "metadata": {},
     "output_type": "execute_result"
    },
    {
     "data": {
      "image/png": "[encoded data removed]",
      "text/plain": [
       "<matplotlib.figure.Figure at 0x121b90d30>"
      ]
     },
     "metadata": {},
     "output_type": "display_data"
    }
   ],
   "source": [
    "plt.scatter(b,a)\n",
    "plt.title('Scatterplot of Words Read/Accuracy',fontsize=16)\n",
    "plt.xlabel('Word Count',fontsize=14)\n",
    "plt.ylabel('Percentage of Correct Answers',fontsize=14)"
   ]
  },
  {
   "cell_type": "code",
   "execution_count": 336,
   "metadata": {},
   "outputs": [
    {
     "data": {
      "text/plain": [
       "array([[ 1.        ,  0.04860814],\n",
       "       [ 0.04860814,  1.        ]])"
      ]
     },
     "execution_count": 336,
     "metadata": {},
     "output_type": "execute_result"
    }
   ],
   "source": [
    "np.corrcoef(b, a)"
   ]
  },
  {
   "cell_type": "markdown",
   "metadata": {},
   "source": [
    "__NOTES__\n",
    "\n",
    "\n",
    "A Pearson Correlation Coefficient of 0.0486 means there is virtually no relationship between the words read and the Percentage of Correct Answers provided.\n",
    "\n"
   ]
  },
  {
   "cell_type": "code",
   "execution_count": 337,
   "metadata": {},
   "outputs": [
    {
     "data": {
      "text/plain": [
       "<matplotlib.text.Text at 0x121ca6358>"
      ]
     },
     "execution_count": 337,
     "metadata": {},
     "output_type": "execute_result"
    },
    {
     "data": {
      "image/png": "[encoded data removed]",
      "text/plain": [
       "<matplotlib.figure.Figure at 0x121ccfbe0>"
      ]
     },
     "metadata": {},
     "output_type": "display_data"
    }
   ],
   "source": [
    "b = ccuRead['Total Articles Read']\n",
    "plt.scatter(b,a)\n",
    "plt.title('Scatterplot of Articles Read/Accuracy',fontsize=16)\n",
    "plt.xlabel(' Count of Articles Read',fontsize=14)\n",
    "plt.ylabel('Percentage of Correct Answers',fontsize=14)\n",
    "\n"
   ]
  },
  {
   "cell_type": "code",
   "execution_count": 338,
   "metadata": {},
   "outputs": [
    {
     "data": {
      "text/plain": [
       "array([[ 1.        ,  0.06845189],\n",
       "       [ 0.06845189,  1.        ]])"
      ]
     },
     "execution_count": 338,
     "metadata": {},
     "output_type": "execute_result"
    }
   ],
   "source": [
    "np.corrcoef(b, a)"
   ]
  },
  {
   "cell_type": "markdown",
   "metadata": {},
   "source": [
    "__NOTES__\n",
    "\n",
    "\n",
    "A Pearson Correlation Coefficient of 0.0684 means there is also virtually no relationship between the Articles read and the Percentage of Correct Answers provided.\n",
    "\n",
    "\n"
   ]
  },
  {
   "cell_type": "markdown",
   "metadata": {},
   "source": [
    "__How Lexile Influences Answers__\n",
    "Only Looking at submitted answers\n"
   ]
  },
  {
   "cell_type": "code",
   "execution_count": 206,
   "metadata": {},
   "outputs": [
    {
     "name": "stderr",
     "output_type": "stream",
     "text": [
      "b'Skipping line 6: expected 5 fields, saw 6\\nSkipping line 7: expected 5 fields, saw 6\\n'\n",
      "b'Skipping line 6: expected 5 fields, saw 6\\nSkipping line 7: expected 5 fields, saw 6\\n'\n",
      "b'Skipping line 6: expected 5 fields, saw 6\\nSkipping line 7: expected 5 fields, saw 6\\n'\n",
      "b'Skipping line 6: expected 5 fields, saw 6\\nSkipping line 7: expected 5 fields, saw 6\\n'\n",
      "b'Skipping line 6: expected 5 fields, saw 6\\nSkipping line 7: expected 5 fields, saw 6\\n'\n",
      "b'Skipping line 6: expected 5 fields, saw 6\\nSkipping line 7: expected 5 fields, saw 6\\n'\n",
      "b'Skipping line 6: expected 5 fields, saw 6\\nSkipping line 7: expected 5 fields, saw 6\\n'\n",
      "b'Skipping line 6: expected 5 fields, saw 6\\nSkipping line 7: expected 5 fields, saw 6\\n'\n",
      "b'Skipping line 6: expected 5 fields, saw 6\\nSkipping line 7: expected 5 fields, saw 6\\n'\n",
      "b'Skipping line 6: expected 5 fields, saw 6\\nSkipping line 7: expected 5 fields, saw 6\\n'\n",
      "b'Skipping line 6: expected 5 fields, saw 6\\nSkipping line 7: expected 5 fields, saw 6\\n'\n",
      "b'Skipping line 6: expected 5 fields, saw 6\\nSkipping line 7: expected 5 fields, saw 6\\n'\n",
      "b'Skipping line 6: expected 5 fields, saw 6\\nSkipping line 7: expected 5 fields, saw 6\\n'\n",
      "b'Skipping line 6: expected 5 fields, saw 6\\nSkipping line 7: expected 5 fields, saw 6\\n'\n",
      "b'Skipping line 6: expected 5 fields, saw 6\\nSkipping line 7: expected 5 fields, saw 6\\n'\n",
      "b'Skipping line 6: expected 5 fields, saw 6\\nSkipping line 7: expected 5 fields, saw 6\\n'\n",
      "b'Skipping line 6: expected 5 fields, saw 6\\nSkipping line 7: expected 5 fields, saw 6\\n'\n",
      "b'Skipping line 6: expected 5 fields, saw 6\\nSkipping line 7: expected 5 fields, saw 6\\n'\n",
      "b'Skipping line 6: expected 5 fields, saw 6\\nSkipping line 7: expected 5 fields, saw 6\\n'\n",
      "b'Skipping line 6: expected 5 fields, saw 6\\nSkipping line 7: expected 5 fields, saw 6\\n'\n",
      "b'Skipping line 6: expected 5 fields, saw 6\\nSkipping line 7: expected 5 fields, saw 6\\n'\n",
      "b'Skipping line 6: expected 5 fields, saw 6\\nSkipping line 7: expected 5 fields, saw 6\\n'\n",
      "b'Skipping line 6: expected 5 fields, saw 6\\nSkipping line 7: expected 5 fields, saw 6\\n'\n",
      "b'Skipping line 6: expected 5 fields, saw 6\\nSkipping line 7: expected 5 fields, saw 6\\n'\n",
      "b'Skipping line 6: expected 5 fields, saw 6\\nSkipping line 7: expected 5 fields, saw 6\\n'\n",
      "b'Skipping line 6: expected 5 fields, saw 6\\nSkipping line 7: expected 5 fields, saw 6\\n'\n",
      "b'Skipping line 6: expected 5 fields, saw 6\\nSkipping line 7: expected 5 fields, saw 6\\n'\n"
     ]
    }
   ],
   "source": [
    "SnL = pd.read_csv('~/Desktop/Projects/RAYSE ACADEMY/ReadWorks/Articles/Readworks_CCU01.Solids and Liquids.csv', error_bad_lines=False)\n",
    "Moon = pd.read_csv('~/Desktop/Projects/RAYSE ACADEMY/ReadWorks/Articles/Readworks_CCU01.The Moon Journal.csv', error_bad_lines=False)\n",
    "Touch = pd.read_csv('~/Desktop/Projects/RAYSE ACADEMY/ReadWorks/Articles/Readworks_CCU01.Your Sense of Touch.csv', error_bad_lines=False)\n",
    "Sun = pd.read_csv('~/Desktop/Projects/RAYSE ACADEMY/ReadWorks/Articles/Readworks_CCU01.Sunlight in the Winter.csv', error_bad_lines=False)\n",
    "Drums = pd.read_csv('~/Desktop/Projects/RAYSE ACADEMY/ReadWorks/Articles/Readworks_CCU01.Different Drums.csv', error_bad_lines=False)\n",
    "Food = pd.read_csv('~/Desktop/Projects/RAYSE ACADEMY/ReadWorks/Articles/Readworks_CCU01.Finding Food.csv', error_bad_lines=False)\n",
    "Lance = pd.read_csv('~/Desktop/Projects/RAYSE ACADEMY/ReadWorks/Articles/Readworks_CCU01.Get Well Lance.csv', error_bad_lines=False)\n",
    "China = pd.read_csv('~/Desktop/Projects/RAYSE ACADEMY/ReadWorks/Articles/Readworks_CCU01.Chinese New Year.csv', error_bad_lines=False)\n",
    "Star = pd.read_csv('~/Desktop/Projects/RAYSE ACADEMY/ReadWorks/Articles/Readworks_CCU01.Star Fruits.csv', error_bad_lines=False)\n",
    "Juan = pd.read_csv('~/Desktop/Projects/RAYSE ACADEMY/ReadWorks/Articles/Readworks_CCU01.Juan Wants to Build.csv', error_bad_lines=False)\n",
    "Soccer = pd.read_csv('~/Desktop/Projects/RAYSE ACADEMY/ReadWorks/Articles/Readworks_CCU01.How Is a Soccer Ball Made.csv', error_bad_lines=False)\n",
    "Water = pd.read_csv('~/Desktop/Projects/RAYSE ACADEMY/ReadWorks/Articles/Readworks_CCU01.Getting Water from a Well.csv', error_bad_lines=False)\n",
    "Cats = pd.read_csv('~/Desktop/Projects/RAYSE ACADEMY/ReadWorks/Articles/Readworks_CCU01.Cats Show How They Feel.csv', error_bad_lines=False)\n",
    "\n",
    "Space = pd.read_csv('~/Desktop/Projects/RAYSE ACADEMY/ReadWorks/Articles/Readworks_CCU01.What is Space Like.csv', error_bad_lines=False)\n",
    "Four = pd.read_csv('~/Desktop/Projects/RAYSE ACADEMY/ReadWorks/Articles/Readworks_CCU01.The Four Seasons.csv', error_bad_lines=False)\n",
    "Ant = pd.read_csv('~/Desktop/Projects/RAYSE ACADEMY/ReadWorks/Articles/Readworks_CCU01.Ant and Grasshopper.csv', error_bad_lines=False)\n",
    "Senses = pd.read_csv('~/Desktop/Projects/RAYSE ACADEMY/ReadWorks/Articles/Readworks_CCU01.Your Five Senses.csv', error_bad_lines=False)\n",
    "Push = pd.read_csv('~/Desktop/Projects/RAYSE ACADEMY/ReadWorks/Articles/Readworks_CCU01.Will You Push or Pull.csv', error_bad_lines=False)\n",
    "City = pd.read_csv('~/Desktop/Projects/RAYSE ACADEMY/ReadWorks/Articles/Readworks_CCU01.City life and Country Life.csv', error_bad_lines=False)\n",
    "Tree = pd.read_csv('~/Desktop/Projects/RAYSE ACADEMY/ReadWorks/Articles/Readworks_CCU01.Parts of a Tree.csv', error_bad_lines=False)\n",
    "Plastic = pd.read_csv('~/Desktop/Projects/RAYSE ACADEMY/ReadWorks/Articles/Readworks_CCU01.How Plastic is Recycled.csv', error_bad_lines=False)\n",
    "Night = pd.read_csv('~/Desktop/Projects/RAYSE ACADEMY/ReadWorks/Articles/Readworks_CCU01.From Morning to Night.csv', error_bad_lines=False)\n",
    "\n",
    "\n",
    "\n",
    "Cool = pd.read_csv('~/Desktop/Projects/RAYSE ACADEMY/ReadWorks/Articles/Readworks_CCU01.A Cool Pool.csv', error_bad_lines=False)\n",
    "Sunny = pd.read_csv('~/Desktop/Projects/RAYSE ACADEMY/ReadWorks/Articles/Readworks_CCU01.Cloudy and Sunny.csv', error_bad_lines=False)\n",
    "Quiet = pd.read_csv('~/Desktop/Projects/RAYSE ACADEMY/ReadWorks/Articles/Readworks_CCU01.I Need Quiet.csv', error_bad_lines=False)\n",
    "Snow = pd.read_csv('~/Desktop/Projects/RAYSE ACADEMY/ReadWorks/Articles/Readworks_CCU01.Stuck in the Snow.csv', error_bad_lines=False)\n",
    "Friend = pd.read_csv('~/Desktop/Projects/RAYSE ACADEMY/ReadWorks/Articles/Readworks_CCU01.Helping a Friend.csv', error_bad_lines=False)\n",
    "\n",
    "\n",
    "\n",
    "\n",
    "\n"
   ]
  },
  {
   "cell_type": "code",
   "execution_count": 113,
   "metadata": {},
   "outputs": [],
   "source": [
    " d = {}\n",
    "def filtering(x):\n",
    "    #find the accounts that are part of the roster\n",
    "    x = x[x['Students'].str.contains('ccu01')]\n",
    "    s = x['Students'].str.split().str[-1]\n",
    "    x = pd.concat([x,s],axis=1)\n",
    "    x.columns.values[0] = 'Name'\n",
    "    x.columns.values[-1] = 'ID'\n",
    "    x = x[x['ID'].isin(mp)]\n",
    "    \n",
    "    return x\n",
    "    \n",
    "def submitting(x):\n",
    "    #Select only the accounts who have officially submitted their answer\n",
    "    x = x.loc[x['Status']=='Submitted']\n",
    "    x['Multiple Choice'] = x['Multiple Choice'].str.rstrip('%').astype('float') / 100.0\n",
    "    return x\n",
    "\n",
    "\n",
    "def averaging(p):\n",
    "    #\n",
    "    w = p.Total[1]\n",
    "    p = filtering(p)\n",
    "    p = submitting(p)\n",
    "    d[w] = p['Multiple Choice'].mean()\n",
    "    return p \n",
    "\n",
    "\n"
   ]
  },
  {
   "cell_type": "code",
   "execution_count": 116,
   "metadata": {},
   "outputs": [
    {
     "name": "stderr",
     "output_type": "stream",
     "text": [
      "/Users/georgesericcolbert/anaconda/lib/python3.6/site-packages/ipykernel_launcher.py:14: SettingWithCopyWarning: \n",
      "A value is trying to be set on a copy of a slice from a DataFrame.\n",
      "Try using .loc[row_indexer,col_indexer] = value instead\n",
      "\n",
      "See the caveats in the documentation: http://pandas.pydata.org/pandas-docs/stable/indexing.html#indexing-view-versus-copy\n",
      "  \n"
     ]
    }
   ],
   "source": [
    "\n",
    "\n",
    "q = averaging(SnL)\n",
    "q = averaging(Moon)\n",
    "q = averaging(Touch)\n",
    "q = averaging(Sun)\n",
    "q = averaging(Drums)\n",
    "q = averaging(Food)\n",
    "q = averaging(Lance)\n",
    "q = averaging(China)\n",
    "q = averaging(Star)\n",
    "q = averaging(Juan)\n",
    "q = averaging(Soccer)\n",
    "q = averaging(Water)\n",
    "q = averaging(Cats)\n",
    "q = averaging(Cats)\n",
    "q = averaging(Space)\n",
    "q = averaging(Four)\n",
    "q = averaging(Ant)\n",
    "q = averaging(Senses)\n",
    "\n",
    "q = averaging(Push)\n",
    "q = averaging(City)\n",
    "q = averaging(Tree)\n",
    "q = averaging(Plastic)\n",
    "q = averaging(Night)\n",
    "q = averaging(Cool)\n",
    "q = averaging(Sunny)\n",
    "q = averaging(Quiet)\n",
    "q = averaging(Snow)\n",
    "q = averaging(Friend)\n",
    "\n",
    "\n",
    "\n"
   ]
  },
  {
   "cell_type": "markdown",
   "metadata": {},
   "source": [
    "__Average Answer Accuracy per Article___"
   ]
  },
  {
   "cell_type": "code",
   "execution_count": 120,
   "metadata": {},
   "outputs": [
    {
     "data": {
      "text/plain": [
       "{'A Cool Pool!': 0.7644628099173554,\n",
       " 'Ant and Grasshopper': 0.8342391304347826,\n",
       " 'Cats Show How They Feel': 0.8205882352941176,\n",
       " 'Chinese New Year': 0.8333333333333334,\n",
       " 'City Life and Country Life': 0.7331730769230769,\n",
       " 'Cloudy and Sunny': 0.858,\n",
       " 'Different Drums': 0.8319672131147541,\n",
       " 'Finding Food': 0.6745283018867925,\n",
       " 'From Morning to Night': 0.7823275862068966,\n",
       " 'Get Well Lance': 0.8244047619047619,\n",
       " 'Getting Water from a Well': 0.8614457831325302,\n",
       " 'Helping a Friend': 0.6766917293233082,\n",
       " 'How Is a Soccer Ball Made?': 0.879746835443038,\n",
       " 'How Plastic Is Recycled': 0.7676991150442478,\n",
       " 'I Need Quiet!': 0.7883064516129032,\n",
       " 'Juan Wants to Build': 0.7959770114942529,\n",
       " 'Parts of a Tree': 0.8108108108108109,\n",
       " 'Solids and Liquids': 0.47714285714285715,\n",
       " 'Star Fruits': 0.7025316455696202,\n",
       " 'Stuck in the Snow': 0.7274436090225563,\n",
       " 'Sunlight in the Winter': 0.5753968253968254,\n",
       " 'The Four Seasons': 0.8580246913580247,\n",
       " 'The Moon Journal': 0.6325757575757576,\n",
       " 'What Is Space Like?': 0.7988505747126436,\n",
       " 'Will You Push or Pull?': 0.71875,\n",
       " 'Your Five Senses': 0.7456140350877193,\n",
       " 'Your Sense of Touch': 0.5614035087719298}"
      ]
     },
     "execution_count": 120,
     "metadata": {},
     "output_type": "execute_result"
    }
   ],
   "source": [
    "d"
   ]
  },
  {
   "cell_type": "code",
   "execution_count": 123,
   "metadata": {},
   "outputs": [],
   "source": [
    "Babylon = pd.DataFrame(list(d.items()), columns=['Article', 'Accuracy'])"
   ]
  },
  {
   "cell_type": "code",
   "execution_count": 128,
   "metadata": {},
   "outputs": [],
   "source": [
    "Lexile = pd.read_csv('~/Desktop/Projects/RAYSE ACADEMY/ReadWorks/Readworks.Articles.Lexile.Accuracy.CCU01.csv')\n",
    "\n",
    "Lexi = pd.merge(Lexile,Babylon, how='left', on='Article')"
   ]
  },
  {
   "cell_type": "code",
   "execution_count": 130,
   "metadata": {},
   "outputs": [
    {
     "name": "stdout",
     "output_type": "stream",
     "text": [
      "<class 'pandas.core.frame.DataFrame'>\n",
      "Int64Index: 27 entries, 0 to 26\n",
      "Data columns (total 3 columns):\n",
      "Article     27 non-null object\n",
      "Lexile      27 non-null int64\n",
      "Accuracy    27 non-null float64\n",
      "dtypes: float64(1), int64(1), object(1)\n",
      "memory usage: 864.0+ bytes\n"
     ]
    }
   ],
   "source": [
    "lexi.info()"
   ]
  },
  {
   "cell_type": "code",
   "execution_count": 283,
   "metadata": {},
   "outputs": [
    {
     "data": {
      "text/plain": [
       "<matplotlib.text.Text at 0x1205ff080>"
      ]
     },
     "execution_count": 283,
     "metadata": {},
     "output_type": "execute_result"
    },
    {
     "data": {
      "image/png": "[encoded data removed]",
      "text/plain": [
       "<matplotlib.figure.Figure at 0x1205db7b8>"
      ]
     },
     "metadata": {},
     "output_type": "display_data"
    }
   ],
   "source": [
    "plt.scatter(Lexi.Lexile,Lexi.Accuracy)\n",
    "plt.title('Scatterplot of Lexile/Accuracy',fontsize=16)\n",
    "plt.xlabel('Lexile of Article',fontsize=14)\n",
    "plt.ylabel('Percentage of Correct Answers',fontsize=14)"
   ]
  },
  {
   "cell_type": "code",
   "execution_count": 284,
   "metadata": {},
   "outputs": [
    {
     "data": {
      "text/plain": [
       "array([[ 1.        , -0.22628554],\n",
       "       [-0.22628554,  1.        ]])"
      ]
     },
     "execution_count": 284,
     "metadata": {},
     "output_type": "execute_result"
    }
   ],
   "source": [
    "# Pearson Correlation Coefficient\n",
    "\n",
    "np.corrcoef(Lexi.Lexile, Lexi.Accuracy)"
   ]
  },
  {
   "cell_type": "markdown",
   "metadata": {},
   "source": [
    "__Lexile__\n",
    "\n",
    "A PCC of -0.226 indicates that there is a weak negative relationship between the Lexile of the Article the Average Score Students on that Article.\n"
   ]
  },
  {
   "cell_type": "code",
   "execution_count": 273,
   "metadata": {},
   "outputs": [
    {
     "name": "stderr",
     "output_type": "stream",
     "text": [
      "/Users/georgesericcolbert/anaconda/lib/python3.6/site-packages/ipykernel_launcher.py:14: SettingWithCopyWarning: \n",
      "A value is trying to be set on a copy of a slice from a DataFrame.\n",
      "Try using .loc[row_indexer,col_indexer] = value instead\n",
      "\n",
      "See the caveats in the documentation: http://pandas.pydata.org/pandas-docs/stable/indexing.html#indexing-view-versus-copy\n",
      "  \n"
     ]
    },
    {
     "data": {
      "text/plain": [
       "0.75"
      ]
     },
     "execution_count": 273,
     "metadata": {},
     "output_type": "execute_result"
    }
   ],
   "source": [
    "m = {}\n",
    "\n",
    "\n",
    "def scattering(o,p):\n",
    "    w = p.Total[1]\n",
    "    p = filtering(p)\n",
    "    p = submitting(p)\n",
    "    if o in p['ID'].values:\n",
    "        spa = p.loc[p['ID']==o,['Multiple Choice']]\n",
    "        spa = spa.iloc[0,0]\n",
    "        #spa = p['Multiple Choice'].iloc[p.index(p['ID']==o)]\n",
    "        m[w] = spa\n",
    "        return spa\n",
    "    else:\n",
    "        return 'False'\n",
    "        \n",
    "scattering(Over_ach['Students'].iloc[1],SnL)        \n",
    "scattering(Over_ach['Students'].iloc[1],Moon)\n",
    "scattering(Over_ach['Students'].iloc[1],Touch)\n",
    "scattering(Over_ach['Students'].iloc[1],Sun)\n",
    "scattering(Over_ach['Students'].iloc[1],Drums)\n",
    "scattering(Over_ach['Students'].iloc[1],Food)\n",
    "scattering(Over_ach['Students'].iloc[1],Lance)\n",
    "scattering(Over_ach['Students'].iloc[1],China)\n",
    "scattering(Over_ach['Students'].iloc[1],Star)\n",
    "scattering(Over_ach['Students'].iloc[1],Juan)\n",
    "scattering(Over_ach['Students'].iloc[1],Soccer)\n",
    "scattering(Over_ach['Students'].iloc[1],Water)\n",
    "scattering(Over_ach['Students'].iloc[1],Cats)\n",
    "scattering(Over_ach['Students'].iloc[1],Space)\n",
    "\n",
    "scattering(Over_ach['Students'].iloc[1],Four)\n",
    "scattering(Over_ach['Students'].iloc[1],Ant)\n",
    "scattering(Over_ach['Students'].iloc[1],Senses)\n",
    "scattering(Over_ach['Students'].iloc[1],Push)\n",
    "scattering(Over_ach['Students'].iloc[1],City)\n",
    "scattering(Over_ach['Students'].iloc[1],Tree)\n",
    "scattering(Over_ach['Students'].iloc[1],Plastic)\n",
    "scattering(Over_ach['Students'].iloc[1],Night)\n",
    "scattering(Over_ach['Students'].iloc[1],Cool)\n",
    "scattering(Over_ach['Students'].iloc[1],Sunny)\n",
    "scattering(Over_ach['Students'].iloc[1],Quiet)\n",
    "scattering(Over_ach['Students'].iloc[1],Snow)\n",
    "scattering(Over_ach['Students'].iloc[1],Friend)"
   ]
  },
  {
   "cell_type": "code",
   "execution_count": 282,
   "metadata": {},
   "outputs": [
    {
     "data": {
      "text/plain": [
       "Name                        Umme Habiba ccu01s094\n",
       "Nonfiction Articles Read                       24\n",
       "Nonfiction Words Read                        6158\n",
       "Literary Articles Read                         10\n",
       "Literary Words Read                           800\n",
       "Total Articles Read                            34\n",
       "Total Words Read                             6958\n",
       "Students                                ccu01s094\n",
       "Name: 50, dtype: object"
      ]
     },
     "execution_count": 282,
     "metadata": {},
     "output_type": "execute_result"
    }
   ],
   "source": [
    "Over_ach.iloc[1]"
   ]
  },
  {
   "cell_type": "code",
   "execution_count": null,
   "metadata": {},
   "outputs": [],
   "source": [
    "\n",
    "\n"
   ]
  },
  {
   "cell_type": "code",
   "execution_count": 285,
   "metadata": {},
   "outputs": [],
   "source": [
    "Sparta = pd.DataFrame(list(m.items()), columns=['Article', 'Accuracy'])\n",
    "Umme_Habiba_ccu01s094 = pd.merge(Lexile,Sparta, how='left', on='Article')"
   ]
  },
  {
   "cell_type": "code",
   "execution_count": 286,
   "metadata": {},
   "outputs": [
    {
     "data": {
      "text/plain": [
       "<matplotlib.text.Text at 0x120738c88>"
      ]
     },
     "execution_count": 286,
     "metadata": {},
     "output_type": "execute_result"
    },
    {
     "data": {
      "image/png": "[encoded data removed]",
      "text/plain": [
       "<matplotlib.figure.Figure at 0x120711e48>"
      ]
     },
     "metadata": {},
     "output_type": "display_data"
    }
   ],
   "source": [
    "plt.scatter(Umme_Habiba_ccu01s094.Lexile,Umme_Habiba_ccu01s094.Accuracy)\n",
    "plt.title('Scatterplot of Umme_Habiba_ccu01s094 Lexile/Accuracy',fontsize=16)\n",
    "plt.xlabel('Lexile of Article',fontsize=14)\n",
    "plt.ylabel('Percentage of Correct Answers',fontsize=14)"
   ]
  },
  {
   "cell_type": "code",
   "execution_count": 296,
   "metadata": {},
   "outputs": [
    {
     "data": {
      "text/plain": [
       "array([[ 1.        , -0.11673917],\n",
       "       [-0.11673917,  1.        ]])"
      ]
     },
     "execution_count": 296,
     "metadata": {},
     "output_type": "execute_result"
    }
   ],
   "source": [
    "# Pearson Correlation Coefficient\n",
    "Umme_Habiba_ccu01s094 = Umme_Habiba_ccu01s094.dropna()\n",
    "np.corrcoef(Umme_Habiba_ccu01s094.Lexile, Umme_Habiba_ccu01s094.Accuracy)"
   ]
  },
  {
   "cell_type": "code",
   "execution_count": 287,
   "metadata": {},
   "outputs": [
    {
     "data": {
      "text/plain": [
       "Name                        Saiqua Parveen ccu01s102\n",
       "Nonfiction Articles Read                          24\n",
       "Nonfiction Words Read                           6158\n",
       "Literary Articles Read                            10\n",
       "Literary Words Read                              800\n",
       "Total Articles Read                               34\n",
       "Total Words Read                                6958\n",
       "Students                                   ccu01s102\n",
       "Name: 56, dtype: object"
      ]
     },
     "execution_count": 287,
     "metadata": {},
     "output_type": "execute_result"
    }
   ],
   "source": [
    "Over_ach.iloc[2]"
   ]
  },
  {
   "cell_type": "code",
   "execution_count": 288,
   "metadata": {},
   "outputs": [
    {
     "name": "stderr",
     "output_type": "stream",
     "text": [
      "/Users/georgesericcolbert/anaconda/lib/python3.6/site-packages/ipykernel_launcher.py:14: SettingWithCopyWarning: \n",
      "A value is trying to be set on a copy of a slice from a DataFrame.\n",
      "Try using .loc[row_indexer,col_indexer] = value instead\n",
      "\n",
      "See the caveats in the documentation: http://pandas.pydata.org/pandas-docs/stable/indexing.html#indexing-view-versus-copy\n",
      "  \n"
     ]
    },
    {
     "data": {
      "text/plain": [
       "0.75"
      ]
     },
     "execution_count": 288,
     "metadata": {},
     "output_type": "execute_result"
    }
   ],
   "source": [
    "m = {}\n",
    "\n",
    "\n",
    "\n",
    "scattering(Over_ach['Students'].iloc[2],SnL)        \n",
    "scattering(Over_ach['Students'].iloc[2],Moon)\n",
    "scattering(Over_ach['Students'].iloc[2],Touch)\n",
    "scattering(Over_ach['Students'].iloc[2],Sun)\n",
    "scattering(Over_ach['Students'].iloc[2],Drums)\n",
    "scattering(Over_ach['Students'].iloc[2],Food)\n",
    "scattering(Over_ach['Students'].iloc[2],Lance)\n",
    "scattering(Over_ach['Students'].iloc[2],China)\n",
    "scattering(Over_ach['Students'].iloc[2],Star)\n",
    "scattering(Over_ach['Students'].iloc[2],Juan)\n",
    "scattering(Over_ach['Students'].iloc[2],Soccer)\n",
    "scattering(Over_ach['Students'].iloc[2],Water)\n",
    "scattering(Over_ach['Students'].iloc[2],Cats)\n",
    "scattering(Over_ach['Students'].iloc[2],Space)\n",
    "\n",
    "scattering(Over_ach['Students'].iloc[2],Four)\n",
    "scattering(Over_ach['Students'].iloc[2],Ant)\n",
    "scattering(Over_ach['Students'].iloc[2],Senses)\n",
    "scattering(Over_ach['Students'].iloc[2],Push)\n",
    "scattering(Over_ach['Students'].iloc[2],City)\n",
    "scattering(Over_ach['Students'].iloc[2],Tree)\n",
    "scattering(Over_ach['Students'].iloc[2],Plastic)\n",
    "scattering(Over_ach['Students'].iloc[2],Night)\n",
    "scattering(Over_ach['Students'].iloc[2],Cool)\n",
    "scattering(Over_ach['Students'].iloc[2],Sunny)\n",
    "scattering(Over_ach['Students'].iloc[2],Quiet)\n",
    "scattering(Over_ach['Students'].iloc[2],Snow)\n",
    "scattering(Over_ach['Students'].iloc[2],Friend)"
   ]
  },
  {
   "cell_type": "code",
   "execution_count": null,
   "metadata": {},
   "outputs": [],
   "source": []
  },
  {
   "cell_type": "code",
   "execution_count": 290,
   "metadata": {},
   "outputs": [],
   "source": [
    "Sparta = pd.DataFrame(list(m.items()), columns=['Article', 'Accuracy'])\n",
    "Saiqua_Parveen_ccu01s102 = pd.merge(Lexile,Sparta, how='left', on='Article')"
   ]
  },
  {
   "cell_type": "code",
   "execution_count": 291,
   "metadata": {},
   "outputs": [
    {
     "data": {
      "text/plain": [
       "<matplotlib.text.Text at 0x120874208>"
      ]
     },
     "execution_count": 291,
     "metadata": {},
     "output_type": "execute_result"
    },
    {
     "data": {
      "image/png": "[encoded data removed]",
      "text/plain": [
       "<matplotlib.figure.Figure at 0x1204212e8>"
      ]
     },
     "metadata": {},
     "output_type": "display_data"
    }
   ],
   "source": [
    "plt.scatter(Saiqua_Parveen_ccu01s102.Lexile,Saiqua_Parveen_ccu01s102.Accuracy)\n",
    "plt.title('Scatterplot of Saiqua_Parveen_ccu01s102 Lexile/Accuracy',fontsize=16)\n",
    "plt.xlabel('Lexile of Article',fontsize=14)\n",
    "plt.ylabel('Percentage of Correct Answers',fontsize=14)"
   ]
  },
  {
   "cell_type": "code",
   "execution_count": 297,
   "metadata": {},
   "outputs": [
    {
     "data": {
      "text/plain": [
       "array([[ 1.        , -0.32680988],\n",
       "       [-0.32680988,  1.        ]])"
      ]
     },
     "execution_count": 297,
     "metadata": {},
     "output_type": "execute_result"
    }
   ],
   "source": [
    "# Pearson Correlation Coefficient\n",
    "Saiqua_Parveen_ccu01s102 = Saiqua_Parveen_ccu01s102.dropna()\n",
    "np.corrcoef(Saiqua_Parveen_ccu01s102.Lexile, Saiqua_Parveen_ccu01s102.Accuracy)"
   ]
  },
  {
   "cell_type": "code",
   "execution_count": 298,
   "metadata": {},
   "outputs": [
    {
     "data": {
      "text/plain": [
       "Name                        Sabrun Nessa ccu01s104\n",
       "Nonfiction Articles Read                        24\n",
       "Nonfiction Words Read                         6158\n",
       "Literary Articles Read                          10\n",
       "Literary Words Read                            800\n",
       "Total Articles Read                             34\n",
       "Total Words Read                              6958\n",
       "Students                                 ccu01s104\n",
       "Name: 57, dtype: object"
      ]
     },
     "execution_count": 298,
     "metadata": {},
     "output_type": "execute_result"
    }
   ],
   "source": [
    "Over_ach.iloc[3]"
   ]
  },
  {
   "cell_type": "code",
   "execution_count": 299,
   "metadata": {},
   "outputs": [
    {
     "name": "stderr",
     "output_type": "stream",
     "text": [
      "/Users/georgesericcolbert/anaconda/lib/python3.6/site-packages/ipykernel_launcher.py:14: SettingWithCopyWarning: \n",
      "A value is trying to be set on a copy of a slice from a DataFrame.\n",
      "Try using .loc[row_indexer,col_indexer] = value instead\n",
      "\n",
      "See the caveats in the documentation: http://pandas.pydata.org/pandas-docs/stable/indexing.html#indexing-view-versus-copy\n",
      "  \n"
     ]
    },
    {
     "data": {
      "text/plain": [
       "0.5"
      ]
     },
     "execution_count": 299,
     "metadata": {},
     "output_type": "execute_result"
    }
   ],
   "source": [
    "m = {}\n",
    "\n",
    "\n",
    "\n",
    "scattering(Over_ach['Students'].iloc[3],SnL)        \n",
    "scattering(Over_ach['Students'].iloc[3],Moon)\n",
    "scattering(Over_ach['Students'].iloc[3],Touch)\n",
    "scattering(Over_ach['Students'].iloc[3],Sun)\n",
    "scattering(Over_ach['Students'].iloc[3],Drums)\n",
    "scattering(Over_ach['Students'].iloc[3],Food)\n",
    "scattering(Over_ach['Students'].iloc[3],Lance)\n",
    "scattering(Over_ach['Students'].iloc[3],China)\n",
    "scattering(Over_ach['Students'].iloc[3],Star)\n",
    "scattering(Over_ach['Students'].iloc[3],Juan)\n",
    "scattering(Over_ach['Students'].iloc[3],Soccer)\n",
    "scattering(Over_ach['Students'].iloc[3],Water)\n",
    "scattering(Over_ach['Students'].iloc[3],Cats)\n",
    "scattering(Over_ach['Students'].iloc[3],Space)\n",
    "\n",
    "scattering(Over_ach['Students'].iloc[3],Four)\n",
    "scattering(Over_ach['Students'].iloc[3],Ant)\n",
    "scattering(Over_ach['Students'].iloc[3],Senses)\n",
    "scattering(Over_ach['Students'].iloc[3],Push)\n",
    "scattering(Over_ach['Students'].iloc[3],City)\n",
    "scattering(Over_ach['Students'].iloc[3],Tree)\n",
    "scattering(Over_ach['Students'].iloc[3],Plastic)\n",
    "scattering(Over_ach['Students'].iloc[3],Night)\n",
    "scattering(Over_ach['Students'].iloc[3],Cool)\n",
    "scattering(Over_ach['Students'].iloc[3],Sunny)\n",
    "scattering(Over_ach['Students'].iloc[3],Quiet)\n",
    "scattering(Over_ach['Students'].iloc[3],Snow)\n",
    "scattering(Over_ach['Students'].iloc[3],Friend)"
   ]
  },
  {
   "cell_type": "code",
   "execution_count": 300,
   "metadata": {},
   "outputs": [],
   "source": [
    "Sparta = pd.DataFrame(list(m.items()), columns=['Article', 'Accuracy'])\n",
    "Sabrun_Nessa_ccu01s104 = pd.merge(Lexile,Sparta, how='left', on='Article')"
   ]
  },
  {
   "cell_type": "code",
   "execution_count": 301,
   "metadata": {},
   "outputs": [
    {
     "data": {
      "text/plain": [
       "<matplotlib.text.Text at 0x12089b908>"
      ]
     },
     "execution_count": 301,
     "metadata": {},
     "output_type": "execute_result"
    },
    {
     "data": {
      "image/png": "[encoded data removed]",
      "text/plain": [
       "<matplotlib.figure.Figure at 0x1205cc550>"
      ]
     },
     "metadata": {},
     "output_type": "display_data"
    }
   ],
   "source": [
    "plt.scatter(Sabrun_Nessa_ccu01s104.Lexile,Sabrun_Nessa_ccu01s104.Accuracy)\n",
    "plt.title('Scatterplot of Sabrun_Nessa_ccu01s104 Lexile/Accuracy',fontsize=16)\n",
    "plt.xlabel('Lexile of Article',fontsize=14)\n",
    "plt.ylabel('Percentage of Correct Answers',fontsize=14)"
   ]
  },
  {
   "cell_type": "code",
   "execution_count": 302,
   "metadata": {},
   "outputs": [
    {
     "data": {
      "text/plain": [
       "array([[ 1.        , -0.08741586],\n",
       "       [-0.08741586,  1.        ]])"
      ]
     },
     "execution_count": 302,
     "metadata": {},
     "output_type": "execute_result"
    }
   ],
   "source": [
    "# Pearson Correlation Coefficient\n",
    "Sabrun_Nessa_ccu01s104 = Sabrun_Nessa_ccu01s104.dropna()\n",
    "np.corrcoef(Sabrun_Nessa_ccu01s104.Lexile, Sabrun_Nessa_ccu01s104.Accuracy)"
   ]
  },
  {
   "cell_type": "code",
   "execution_count": 303,
   "metadata": {},
   "outputs": [
    {
     "data": {
      "text/plain": [
       "Name                        Nikhat Parveen ccu01s108\n",
       "Nonfiction Articles Read                          24\n",
       "Nonfiction Words Read                           6158\n",
       "Literary Articles Read                            10\n",
       "Literary Words Read                              800\n",
       "Total Articles Read                               34\n",
       "Total Words Read                                6958\n",
       "Students                                   ccu01s108\n",
       "Name: 59, dtype: object"
      ]
     },
     "execution_count": 303,
     "metadata": {},
     "output_type": "execute_result"
    }
   ],
   "source": [
    "Over_ach.iloc[4]"
   ]
  },
  {
   "cell_type": "code",
   "execution_count": 304,
   "metadata": {},
   "outputs": [
    {
     "name": "stderr",
     "output_type": "stream",
     "text": [
      "/Users/georgesericcolbert/anaconda/lib/python3.6/site-packages/ipykernel_launcher.py:14: SettingWithCopyWarning: \n",
      "A value is trying to be set on a copy of a slice from a DataFrame.\n",
      "Try using .loc[row_indexer,col_indexer] = value instead\n",
      "\n",
      "See the caveats in the documentation: http://pandas.pydata.org/pandas-docs/stable/indexing.html#indexing-view-versus-copy\n",
      "  \n"
     ]
    },
    {
     "data": {
      "text/plain": [
       "0.75"
      ]
     },
     "execution_count": 304,
     "metadata": {},
     "output_type": "execute_result"
    }
   ],
   "source": [
    "m = {}\n",
    "\n",
    "\n",
    "\n",
    "scattering(Over_ach['Students'].iloc[4],SnL)        \n",
    "scattering(Over_ach['Students'].iloc[4],Moon)\n",
    "scattering(Over_ach['Students'].iloc[4],Touch)\n",
    "scattering(Over_ach['Students'].iloc[4],Sun)\n",
    "scattering(Over_ach['Students'].iloc[4],Drums)\n",
    "scattering(Over_ach['Students'].iloc[4],Food)\n",
    "scattering(Over_ach['Students'].iloc[4],Lance)\n",
    "scattering(Over_ach['Students'].iloc[4],China)\n",
    "scattering(Over_ach['Students'].iloc[4],Star)\n",
    "scattering(Over_ach['Students'].iloc[4],Juan)\n",
    "scattering(Over_ach['Students'].iloc[4],Soccer)\n",
    "scattering(Over_ach['Students'].iloc[4],Water)\n",
    "scattering(Over_ach['Students'].iloc[4],Cats)\n",
    "scattering(Over_ach['Students'].iloc[4],Space)\n",
    "\n",
    "scattering(Over_ach['Students'].iloc[4],Four)\n",
    "scattering(Over_ach['Students'].iloc[4],Ant)\n",
    "scattering(Over_ach['Students'].iloc[4],Senses)\n",
    "scattering(Over_ach['Students'].iloc[4],Push)\n",
    "scattering(Over_ach['Students'].iloc[4],City)\n",
    "scattering(Over_ach['Students'].iloc[4],Tree)\n",
    "scattering(Over_ach['Students'].iloc[4],Plastic)\n",
    "scattering(Over_ach['Students'].iloc[4],Night)\n",
    "scattering(Over_ach['Students'].iloc[4],Cool)\n",
    "scattering(Over_ach['Students'].iloc[4],Sunny)\n",
    "scattering(Over_ach['Students'].iloc[4],Quiet)\n",
    "scattering(Over_ach['Students'].iloc[4],Snow)\n",
    "scattering(Over_ach['Students'].iloc[4],Friend)"
   ]
  },
  {
   "cell_type": "code",
   "execution_count": 305,
   "metadata": {},
   "outputs": [
    {
     "data": {
      "text/plain": [
       "<matplotlib.text.Text at 0x120b3a828>"
      ]
     },
     "execution_count": 305,
     "metadata": {},
     "output_type": "execute_result"
    },
    {
     "data": {
      "image/png": "[encoded data removed]",
      "text/plain": [
       "<matplotlib.figure.Figure at 0x120738470>"
      ]
     },
     "metadata": {},
     "output_type": "display_data"
    }
   ],
   "source": [
    "Sparta = pd.DataFrame(list(m.items()), columns=['Article', 'Accuracy'])\n",
    "Nikhat_Parveen_ccu01s108 = pd.merge(Lexile,Sparta, how='left', on='Article')\n",
    "plt.scatter(Nikhat_Parveen_ccu01s108.Lexile,Nikhat_Parveen_ccu01s108.Accuracy)\n",
    "plt.title('Scatterplot of Nikhat_Parveen_ccu01s108 Lexile/Accuracy',fontsize=16)\n",
    "plt.xlabel('Lexile of Article',fontsize=14)\n",
    "plt.ylabel('Percentage of Correct Answers',fontsize=14)"
   ]
  },
  {
   "cell_type": "code",
   "execution_count": 306,
   "metadata": {},
   "outputs": [
    {
     "data": {
      "text/plain": [
       "array([[ 1.        , -0.09194285],\n",
       "       [-0.09194285,  1.        ]])"
      ]
     },
     "execution_count": 306,
     "metadata": {},
     "output_type": "execute_result"
    }
   ],
   "source": [
    "# Pearson Correlation Coefficient\n",
    "Nikhat_Parveen_ccu01s108 = Nikhat_Parveen_ccu01s108.dropna()\n",
    "np.corrcoef(Nikhat_Parveen_ccu01s108.Lexile, Nikhat_Parveen_ccu01s108.Accuracy)"
   ]
  },
  {
   "cell_type": "code",
   "execution_count": 308,
   "metadata": {},
   "outputs": [
    {
     "data": {
      "text/plain": [
       "Name                        Iqra Akhtar ccu01s347\n",
       "Nonfiction Articles Read                       24\n",
       "Nonfiction Words Read                        6158\n",
       "Literary Articles Read                         10\n",
       "Literary Words Read                           800\n",
       "Total Articles Read                            34\n",
       "Total Words Read                             6958\n",
       "Students                                ccu01s347\n",
       "Name: 132, dtype: object"
      ]
     },
     "execution_count": 308,
     "metadata": {},
     "output_type": "execute_result"
    }
   ],
   "source": [
    "Over_ach.iloc[5]"
   ]
  },
  {
   "cell_type": "code",
   "execution_count": 309,
   "metadata": {},
   "outputs": [
    {
     "name": "stderr",
     "output_type": "stream",
     "text": [
      "/Users/georgesericcolbert/anaconda/lib/python3.6/site-packages/ipykernel_launcher.py:14: SettingWithCopyWarning: \n",
      "A value is trying to be set on a copy of a slice from a DataFrame.\n",
      "Try using .loc[row_indexer,col_indexer] = value instead\n",
      "\n",
      "See the caveats in the documentation: http://pandas.pydata.org/pandas-docs/stable/indexing.html#indexing-view-versus-copy\n",
      "  \n"
     ]
    },
    {
     "data": {
      "text/plain": [
       "0.75"
      ]
     },
     "execution_count": 309,
     "metadata": {},
     "output_type": "execute_result"
    }
   ],
   "source": [
    "m = {}\n",
    "\n",
    "\n",
    "\n",
    "scattering(Over_ach['Students'].iloc[5],SnL)        \n",
    "scattering(Over_ach['Students'].iloc[5],Moon)\n",
    "scattering(Over_ach['Students'].iloc[5],Touch)\n",
    "scattering(Over_ach['Students'].iloc[5],Sun)\n",
    "scattering(Over_ach['Students'].iloc[5],Drums)\n",
    "scattering(Over_ach['Students'].iloc[5],Food)\n",
    "scattering(Over_ach['Students'].iloc[5],Lance)\n",
    "scattering(Over_ach['Students'].iloc[5],China)\n",
    "scattering(Over_ach['Students'].iloc[5],Star)\n",
    "scattering(Over_ach['Students'].iloc[5],Juan)\n",
    "scattering(Over_ach['Students'].iloc[5],Soccer)\n",
    "scattering(Over_ach['Students'].iloc[5],Water)\n",
    "scattering(Over_ach['Students'].iloc[5],Cats)\n",
    "scattering(Over_ach['Students'].iloc[5],Space)\n",
    "\n",
    "scattering(Over_ach['Students'].iloc[5],Four)\n",
    "scattering(Over_ach['Students'].iloc[5],Ant)\n",
    "scattering(Over_ach['Students'].iloc[5],Senses)\n",
    "scattering(Over_ach['Students'].iloc[5],Push)\n",
    "scattering(Over_ach['Students'].iloc[5],City)\n",
    "scattering(Over_ach['Students'].iloc[5],Tree)\n",
    "scattering(Over_ach['Students'].iloc[5],Plastic)\n",
    "scattering(Over_ach['Students'].iloc[5],Night)\n",
    "scattering(Over_ach['Students'].iloc[5],Cool)\n",
    "scattering(Over_ach['Students'].iloc[5],Sunny)\n",
    "scattering(Over_ach['Students'].iloc[5],Quiet)\n",
    "scattering(Over_ach['Students'].iloc[5],Snow)\n",
    "scattering(Over_ach['Students'].iloc[5],Friend)"
   ]
  },
  {
   "cell_type": "code",
   "execution_count": 310,
   "metadata": {},
   "outputs": [
    {
     "data": {
      "text/plain": [
       "<matplotlib.text.Text at 0x120c626d8>"
      ]
     },
     "execution_count": 310,
     "metadata": {},
     "output_type": "execute_result"
    },
    {
     "data": {
      "image/png": "[encoded data removed]",
      "text/plain": [
       "<matplotlib.figure.Figure at 0x120c74908>"
      ]
     },
     "metadata": {},
     "output_type": "display_data"
    }
   ],
   "source": [
    "Sparta = pd.DataFrame(list(m.items()), columns=['Article', 'Accuracy'])\n",
    "Iqra_Akhtar_ccu01s347 = pd.merge(Lexile,Sparta, how='left', on='Article')\n",
    "plt.scatter(Iqra_Akhtar_ccu01s347.Lexile,Iqra_Akhtar_ccu01s347.Accuracy)\n",
    "plt.title('Scatterplot of Iqra_Akhtar_ccu01s347 Lexile/Accuracy',fontsize=16)\n",
    "plt.xlabel('Lexile of Article',fontsize=14)\n",
    "plt.ylabel('Percentage of Correct Answers',fontsize=14)"
   ]
  },
  {
   "cell_type": "code",
   "execution_count": 311,
   "metadata": {},
   "outputs": [
    {
     "data": {
      "text/plain": [
       "array([[ 1.        , -0.13627863],\n",
       "       [-0.13627863,  1.        ]])"
      ]
     },
     "execution_count": 311,
     "metadata": {},
     "output_type": "execute_result"
    }
   ],
   "source": [
    "# Pearson Correlation Coefficient\n",
    "Iqra_Akhtar_ccu01s347 = Iqra_Akhtar_ccu01s347.dropna()\n",
    "np.corrcoef(Iqra_Akhtar_ccu01s347.Lexile, Iqra_Akhtar_ccu01s347.Accuracy)"
   ]
  },
  {
   "cell_type": "code",
   "execution_count": 314,
   "metadata": {},
   "outputs": [
    {
     "data": {
      "text/plain": [
       "Name                        Sumaiya Ashraf ccu01s056\n",
       "Nonfiction Articles Read                          26\n",
       "Nonfiction Words Read                           6457\n",
       "Literary Articles Read                            10\n",
       "Literary Words Read                              800\n",
       "Total Articles Read                               36\n",
       "Total Words Read                                7257\n",
       "Students                                   ccu01s056\n",
       "Name: 34, dtype: object"
      ]
     },
     "execution_count": 314,
     "metadata": {},
     "output_type": "execute_result"
    }
   ],
   "source": [
    "Over_ach.iloc[0]"
   ]
  },
  {
   "cell_type": "code",
   "execution_count": 315,
   "metadata": {},
   "outputs": [
    {
     "name": "stderr",
     "output_type": "stream",
     "text": [
      "/Users/georgesericcolbert/anaconda/lib/python3.6/site-packages/ipykernel_launcher.py:14: SettingWithCopyWarning: \n",
      "A value is trying to be set on a copy of a slice from a DataFrame.\n",
      "Try using .loc[row_indexer,col_indexer] = value instead\n",
      "\n",
      "See the caveats in the documentation: http://pandas.pydata.org/pandas-docs/stable/indexing.html#indexing-view-versus-copy\n",
      "  \n"
     ]
    },
    {
     "data": {
      "text/plain": [
       "0.5"
      ]
     },
     "execution_count": 315,
     "metadata": {},
     "output_type": "execute_result"
    }
   ],
   "source": [
    "m = {}\n",
    "\n",
    "\n",
    "\n",
    "scattering(Over_ach['Students'].iloc[0],SnL)        \n",
    "scattering(Over_ach['Students'].iloc[0],Moon)\n",
    "scattering(Over_ach['Students'].iloc[0],Touch)\n",
    "scattering(Over_ach['Students'].iloc[0],Sun)\n",
    "scattering(Over_ach['Students'].iloc[0],Drums)\n",
    "scattering(Over_ach['Students'].iloc[0],Food)\n",
    "scattering(Over_ach['Students'].iloc[0],Lance)\n",
    "scattering(Over_ach['Students'].iloc[0],China)\n",
    "scattering(Over_ach['Students'].iloc[0],Star)\n",
    "scattering(Over_ach['Students'].iloc[0],Juan)\n",
    "scattering(Over_ach['Students'].iloc[0],Soccer)\n",
    "scattering(Over_ach['Students'].iloc[0],Water)\n",
    "scattering(Over_ach['Students'].iloc[0],Cats)\n",
    "scattering(Over_ach['Students'].iloc[0],Space)\n",
    "\n",
    "scattering(Over_ach['Students'].iloc[0],Four)\n",
    "scattering(Over_ach['Students'].iloc[0],Ant)\n",
    "scattering(Over_ach['Students'].iloc[0],Senses)\n",
    "scattering(Over_ach['Students'].iloc[0],Push)\n",
    "scattering(Over_ach['Students'].iloc[0],City)\n",
    "scattering(Over_ach['Students'].iloc[0],Tree)\n",
    "scattering(Over_ach['Students'].iloc[0],Plastic)\n",
    "scattering(Over_ach['Students'].iloc[0],Night)\n",
    "scattering(Over_ach['Students'].iloc[0],Cool)\n",
    "scattering(Over_ach['Students'].iloc[0],Sunny)\n",
    "scattering(Over_ach['Students'].iloc[0],Quiet)\n",
    "scattering(Over_ach['Students'].iloc[0],Snow)\n",
    "scattering(Over_ach['Students'].iloc[0],Friend)"
   ]
  },
  {
   "cell_type": "code",
   "execution_count": 317,
   "metadata": {},
   "outputs": [
    {
     "data": {
      "text/plain": [
       "<matplotlib.text.Text at 0x120dd7a20>"
      ]
     },
     "execution_count": 317,
     "metadata": {},
     "output_type": "execute_result"
    },
    {
     "data": {
      "image/png": "[encoded data removed]",
      "text/plain": [
       "<matplotlib.figure.Figure at 0x120add080>"
      ]
     },
     "metadata": {},
     "output_type": "display_data"
    }
   ],
   "source": [
    "Sparta = pd.DataFrame(list(m.items()), columns=['Article', 'Accuracy'])\n",
    "Sumaiya_Ashraf_ccu01s056 = pd.merge(Lexile,Sparta, how='left', on='Article')\n",
    "plt.scatter(Sumaiya_Ashraf_ccu01s056.Lexile,Sumaiya_Ashraf_ccu01s056.Accuracy)\n",
    "plt.title('Scatterplot of Sumaiya_Ashraf_ccu01s056 Lexile/Accuracy',fontsize=16)\n",
    "plt.xlabel('Lexile of Article',fontsize=14)\n",
    "plt.ylabel('Percentage of Correct Answers',fontsize=14)"
   ]
  },
  {
   "cell_type": "code",
   "execution_count": 318,
   "metadata": {},
   "outputs": [
    {
     "data": {
      "text/plain": [
       "array([[ 1.        , -0.03700905],\n",
       "       [-0.03700905,  1.        ]])"
      ]
     },
     "execution_count": 318,
     "metadata": {},
     "output_type": "execute_result"
    }
   ],
   "source": [
    "# Pearson Correlation Coefficient\n",
    "Sumaiya_Ashraf_ccu01s056 = Sumaiya_Ashraf_ccu01s056.dropna()\n",
    "np.corrcoef(Sumaiya_Ashraf_ccu01s056.Lexile, Sumaiya_Ashraf_ccu01s056.Accuracy)"
   ]
  }
 ],
 "metadata": {
  "kernelspec": {
   "display_name": "Python 3",
   "language": "python",
   "name": "python3"
  },
  "language_info": {
   "codemirror_mode": {
    "name": "ipython",
    "version": 3
   },
   "file_extension": ".py",
   "mimetype": "text/x-python",
   "name": "python",
   "nbconvert_exporter": "python",
   "pygments_lexer": "ipython3",
   "version": "3.6.3"
  }
 },
 "nbformat": 4,
 "nbformat_minor": 2
}
